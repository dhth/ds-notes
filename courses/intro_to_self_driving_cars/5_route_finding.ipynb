{
 "cells": [
  {
   "cell_type": "markdown",
   "metadata": {},
   "source": [
    "# Route Finding\n",
    "\n",
    "## Setup\n",
    "We have a map of interconnected nodes\n",
    "\n",
    "Initial state  -> $s_0$\n",
    "\n",
    "Actions $(s)$  -> ${a_1,a_2,a_3,...}$\n",
    "\n",
    "Result $(s,a)$ -> $s'$"
   ]
  },
  {
   "cell_type": "markdown",
   "metadata": {},
   "source": [
    "## States\n",
    "At every point we want to separate the state into separate parts:\n",
    "- Frontier\n",
    "- Explored\n",
    "- Unexplored"
   ]
  },
  {
   "cell_type": "markdown",
   "metadata": {},
   "source": [
    "## Graph search algorithm\n",
    "\n",
    "```\n",
    "function Graph.Search(problem):\n",
    "    frontier = {[initial]}; explored = {}\n",
    "    loop:\n",
    "        if frontier is empty: return FAIL\n",
    "        path.remove.choice(frontier)\n",
    "        s = path.end; add s to explored\n",
    "        if s is a goal: return path\n",
    "        for a in actions:\n",
    "            add[path + a> Result(s,a)]\n",
    "            to frontier\n",
    "            unless Results(s,a) in frontier or explored\n",
    "```"
   ]
  },
  {
   "cell_type": "markdown",
   "metadata": {},
   "source": [
    "Depending on implementation of `remove.choice(frontier)`, we have a family of search algorithms.\n",
    "- Breadth first (shortest first)\n",
    "- Uniform Cost (cheapest first)\n",
    "- Depth First (longest first)"
   ]
  },
  {
   "cell_type": "markdown",
   "metadata": {},
   "source": [
    "Thinking in terms of contours along which each algorithm expands outwards:\n",
    "\n",
    "**Uniform Cost search**: expands out equally in all directions (ie, not directed) ,may expend additional effort getting to a fairly direct path to the goal.\n",
    "\n",
    "To speed up search, we need to add more knowledge. We can use estimate of the distance between a state and the goal. Greedy best-first search does that.\n",
    "\n",
    "**Greedy best-first search**: expands outward toward locations estimated as closer to the goal. If a direct path is available, expends much less effort than Uniform Cost; however, it does not consider any routes in which it may need to temporarily take a further away path in order to arrive at an overall shorter path.\n",
    "\n",
    "**A\\* Search** - utilizes both of these - will try to optimize with both the shortest path and the goal in mind.\n",
    "\n"
   ]
  },
  {
   "cell_type": "markdown",
   "metadata": {},
   "source": [
    "## A\\* Search\n",
    "\n",
    "Minimises the value:\n",
    "$$ f = g+ h $$\n",
    "\n",
    "where\n",
    "\n",
    "$g$(path) = path cost\n",
    "\n",
    "$h$(path) = $h(s)$ = estimated distance to goal\n",
    "\n",
    "In other words:\n",
    "```\n",
    "g -> is path cost so far -> keeps the path short  \n",
    "h -> estimated distance -> keeps us focussed on the goal\n",
    "```"
   ]
  },
  {
   "cell_type": "markdown",
   "metadata": {},
   "source": [
    "A\\* finds the lowest cost path if:\n",
    "$h(s)$ < true cost\n",
    "\n",
    "ie, $h$ should never overestimate distance to goal"
   ]
  }
 ],
 "metadata": {
  "kernelspec": {
   "display_name": "Python 3",
   "language": "python",
   "name": "python3"
  },
  "language_info": {
   "codemirror_mode": {
    "name": "ipython",
    "version": 3
   },
   "file_extension": ".py",
   "mimetype": "text/x-python",
   "name": "python",
   "nbconvert_exporter": "python",
   "pygments_lexer": "ipython3",
   "version": "3.6.1"
  }
 },
 "nbformat": 4,
 "nbformat_minor": 2
}
