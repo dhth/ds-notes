{
 "cells": [
  {
   "cell_type": "markdown",
   "metadata": {},
   "source": [
    "Bayes' theorem gives a mathematical way to correct predictions about probability of an event, and move from prior belief to something more and more probable.\n",
    "\n",
    "The intuition behind application of Bayes' theorem in probabilistic inference can be put as follows: *Given an initial prediction, if we gather additional related data, data that the initial prediction depends upon, we can improve that prediction.*"
   ]
  },
  {
   "cell_type": "markdown",
   "metadata": {},
   "source": [
    "## Example\n",
    "Let's say the probability of people getting cancer, `P(C)` is `0.01`. There's a test to detect cancer which results in a positive or negative outcome. In case of people who actually have cancer this test results positive `90%` of the time. In the case of people who don't have cancer, this test results negative `90%` of the time.\n",
    "\n",
    "The question to answer is:\n",
    "\n",
    "*Given that the test comes out positive for a person, what is the probability of that person having cancer?*\n",
    "\n",
    "![](https://i.imgur.com/XNrqZkO.png)\n",
    "\n",
    "Let's say the box represents all people. Inside the box, the purple circle represents people who actually have cancer, ie, `1%` of all people. The red highlighted area is the `90%` of the purple circle, and represents people who actually have cancer and test positive. The green highlighted is `10%` of the area of the box (ie, `10%` of all people), and represents people who don't have cancer and test positive."
   ]
  },
  {
   "cell_type": "markdown",
   "metadata": {},
   "source": [
    "## Essence of Bayes' Rule\n",
    "![](https://i.imgur.com/2WmcRv7.png)\n",
    "We start with a prior probability, and incorporate test evidence, and arrive at the posterior probability.\n",
    "\n",
    "Bayes' rule states:\n",
    "$$ P(C\\mid Pos) = \\frac{P(Pos\\mid C) \\cdot P(C) }{P(Pos)} $$\n",
    "\n",
    "which is also equal to\n",
    "$$ P(C\\mid Pos) = \\frac{P(Pos,C)}{P(Pos)} $$\n",
    "\n",
    "where $P(Pos,C)$ is the joint probability of a person having cancer and also testing positive."
   ]
  },
  {
   "cell_type": "markdown",
   "metadata": {},
   "source": [
    "From given data, $P(Pos\\mid C)$ is `0.9`, $P(C)$ is `0.01`.\n",
    "\n",
    "Total probability of testing positive, ie, $P(Pos)$, is the sum of joint probabilities of testing positive and having cancer, and testing positive and not having cancer. That is:\n"
   ]
  },
  {
   "cell_type": "markdown",
   "metadata": {},
   "source": [
    "$$ P(Pos) = P(Pos\\mid C) \\cdot P(C) + P(Pos\\mid \\neg C) \\cdot P(\\neg C)$$"
   ]
  },
  {
   "cell_type": "markdown",
   "metadata": {},
   "source": [
    "So, finally:"
   ]
  },
  {
   "cell_type": "markdown",
   "metadata": {},
   "source": [
    "$$ P(C\\mid Pos) = \\frac{P(Pos\\mid C) \\cdot P(C) }{P(Pos\\mid C) \\cdot P(C) + P(Pos\\mid \\neg C) \\cdot P(\\neg C)} $$"
   ]
  },
  {
   "cell_type": "markdown",
   "metadata": {},
   "source": [
    "Putting in the values, it turns out to be:\n",
    "$$ P(C\\mid Pos) = \\frac{0.9 \\cdot 0.01 }{0.9 \\cdot 0.01 + 0.1 \\cdot 0.99} = 0.0833$$"
   ]
  },
  {
   "cell_type": "markdown",
   "metadata": {},
   "source": [
    "Putting all of this process in a flowchart:\n",
    "![flowchart](https://i.imgur.com/Vo7r2PI.png)\n",
    "\n",
    "As seen above the two joint probabilities represent the corresponding color coded areas in the diagram above."
   ]
  }
 ],
 "metadata": {
  "kernelspec": {
   "display_name": "Python 3",
   "language": "python",
   "name": "python3"
  },
  "language_info": {
   "codemirror_mode": {
    "name": "ipython",
    "version": 3
   },
   "file_extension": ".py",
   "mimetype": "text/x-python",
   "name": "python",
   "nbconvert_exporter": "python",
   "pygments_lexer": "ipython3",
   "version": "3.6.2"
  }
 },
 "nbformat": 4,
 "nbformat_minor": 2
}
