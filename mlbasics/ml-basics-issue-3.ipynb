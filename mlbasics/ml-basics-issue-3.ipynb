{
 "cells": [
  {
   "cell_type": "markdown",
   "metadata": {
    "colab_type": "text",
    "id": "jEdC_x2Zr1Sf"
   },
   "source": [
    "Original blog post here: [https://dhruvs.space/posts/ml-basics-issue-3/](https://dhruvs.space/posts/ml-basics-issue-3/)."
   ]
  },
  {
   "cell_type": "markdown",
   "metadata": {},
   "source": [
    "<h2>Table of Contents<span class=\"tocSkip\"></span></h2>\n",
    "<div class=\"toc\"><ul class=\"toc-item\"><li><span><a href=\"#Setup\" data-toc-modified-id=\"Setup-1\">Setup</a></span></li><li><span><a href=\"#Multilayer-Perceptron-with-3-layers\" data-toc-modified-id=\"Multilayer-Perceptron-with-3-layers-2\">Multilayer Perceptron with 3 layers</a></span></li><li><span><a href=\"#Decision-Boundaries\" data-toc-modified-id=\"Decision-Boundaries-3\">Decision Boundaries</a></span></li><li><span><a href=\"#References\" data-toc-modified-id=\"References-4\">References</a></span></li></ul></div>"
   ]
  },
  {
   "cell_type": "markdown",
   "metadata": {
    "colab_type": "text",
    "id": "3hjBmR5ycyiS"
   },
   "source": [
    "## Setup"
   ]
  },
  {
   "cell_type": "code",
   "execution_count": 0,
   "metadata": {
    "colab": {},
    "colab_type": "code",
    "collapsed": true,
    "id": "aTGAms12PHIR"
   },
   "outputs": [],
   "source": [
    "!apt-get -q install imagemagick\n",
    "!pip install -q celluloid\n",
    "#restart"
   ]
  },
  {
   "cell_type": "code",
   "execution_count": 0,
   "metadata": {
    "colab": {},
    "colab_type": "code",
    "collapsed": true,
    "id": "2ntY_1CPPd7_"
   },
   "outputs": [],
   "source": [
    "from sklearn.datasets import make_classification, make_circles, make_moons, make_blobs,make_checkerboard\n",
    "import matplotlib.pyplot as plt\n",
    "import numpy as np\n",
    "import pandas as pd\n",
    "from IPython.display import HTML\n",
    "import pickle\n",
    "from math import ceil\n",
    "from matplotlib.offsetbox import AnchoredText\n",
    "from celluloid import Camera"
   ]
  },
  {
   "cell_type": "code",
   "execution_count": 0,
   "metadata": {
    "colab": {},
    "colab_type": "code",
    "collapsed": true,
    "id": "QzeqWVefP1m1"
   },
   "outputs": [],
   "source": [
    "def plot_points(X, y, alpha=None):\n",
    "    dogs = X[np.argwhere(y==1)]\n",
    "    cats = X[np.argwhere(y==0)]\n",
    "    plt.scatter([s[0][0] for s in cats], [s[0][1] for s in cats], s = 25, \\\n",
    "                color = 'red', edgecolor = 'k', label='cat', alpha=alpha)\n",
    "    plt.scatter([s[0][0] for s in dogs], [s[0][1] for s in dogs], s = 25, \\\n",
    "                color = 'blue', edgecolor = 'k', label='dog', alpha=alpha)\n",
    "    plt.xlabel('$x_1$')\n",
    "    plt.ylabel('$x_2$')\n",
    "    plt.legend()"
   ]
  },
  {
   "cell_type": "code",
   "execution_count": 0,
   "metadata": {
    "colab": {},
    "colab_type": "code",
    "collapsed": true,
    "id": "pC0WMRx2FhkM"
   },
   "outputs": [],
   "source": [
    "!wget -q https://gist.githubusercontent.com/dhth/fcd27938c26dbc6124c1c70646a52cfc/raw/2fabb32c1008afefeaf006fcf7602638de0c8699/exor_dataset.csv"
   ]
  },
  {
   "cell_type": "code",
   "execution_count": null,
   "metadata": {
    "colab": {
     "base_uri": "https://localhost:8080/",
     "height": 465
    },
    "colab_type": "code",
    "collapsed": true,
    "id": "z6splnvHGezk",
    "outputId": "0982b235-ff32-40b2-c48e-69cc7cf80e97"
   },
   "outputs": [],
   "source": [
    "data = pd.read_csv('exor_dataset.csv', header=None)\n",
    "fig = plt.figure(dpi=120)\n",
    "X = np.array(data[[0,1]])\n",
    "y = np.array(data[2]).astype(int)\n",
    "plot_points(X,y)\n",
    "plt.xlim(X[:,0].min()-0.5,X[:,0].max()+0.5)\n",
    "plt.ylim(X[:,1].min()-0.5,X[:,1].max()+0.5)\n",
    "# plt.savefig('1.png')\n",
    "plt.show()"
   ]
  },
  {
   "cell_type": "code",
   "execution_count": 0,
   "metadata": {
    "colab": {},
    "colab_type": "code",
    "collapsed": true,
    "id": "pZMx_IUhI73O"
   },
   "outputs": [],
   "source": [
    "def sigmoid(x):\n",
    "    return 1/(1+np.exp(-x))"
   ]
  },
  {
   "cell_type": "code",
   "execution_count": 0,
   "metadata": {
    "colab": {},
    "colab_type": "code",
    "collapsed": true,
    "id": "ZizRGWRfD_gx"
   },
   "outputs": [],
   "source": [
    "class MLPNeuralNet(object):\n",
    "    def __init__(self,N_input, N_hidden,N_output):\n",
    "        self.weights_input_to_hidden = np.random.normal(0, scale=0.1, size=(N_input, N_hidden))\n",
    "        self.weights_hidden_to_output = np.random.normal(0, scale=0.1, size=(N_hidden, N_output))\n",
    "\n",
    "        self.bias_input_to_hidden = np.zeros(N_hidden)\n",
    "        self.bias_hidden_to_output = np.zeros(N_output)\n",
    "        \n",
    "    def feed_forward(self,input_x):\n",
    "        self.hidden_layer_in = np.dot(input_x,self.weights_input_to_hidden) + self.bias_input_to_hidden\n",
    "        self.hidden_layer_out = sigmoid(self.hidden_layer_in)\n",
    "        self.output_layer_in = np.dot(self.hidden_layer_out,self.weights_hidden_to_output) + self.bias_hidden_to_output\n",
    "        self.output_layer_out = sigmoid(self.output_layer_in)\n",
    "        return self.output_layer_out\n",
    "    \n",
    "    def get_hidden_layer_in(self,input_x):\n",
    "        return np.dot(input_x,self.weights_input_to_hidden) + self.bias_input_to_hidden\n",
    "\n",
    "    def get_output_layer_in(self,input_x):\n",
    "        self.hidden_layer_in = np.dot(input_x,self.weights_input_to_hidden) + self.bias_input_to_hidden\n",
    "        self.hidden_layer_out = sigmoid(self.hidden_layer_in)\n",
    "        return np.dot(self.hidden_layer_out,self.weights_hidden_to_output) + self.bias_hidden_to_output\n",
    "    \n",
    "    def back_propagate(self,input_x,output_y, learn_rate):\n",
    "        error = (-1)*(output_y*np.log(self.output_layer_out) + (1-output_y)*np.log(1-self.output_layer_out))\n",
    "        del_y_out = (-1)*output_y/self.output_layer_out + (1-output_y)/(1-self.output_layer_out)\n",
    "        del_h = del_y_out*self.output_layer_out*(1-self.output_layer_out)*self.weights_hidden_to_output.T\n",
    "        del_w_h_o = del_y_out*self.output_layer_out*(1-self.output_layer_out)*self.hidden_layer_out.T\n",
    "        del_b_o = del_y_out*self.output_layer_out*(1-self.output_layer_out)\n",
    "        del_w_i_h = del_h*self.hidden_layer_out*(1-self.hidden_layer_out)*input_x.T\n",
    "        del_b_h = del_h*self.hidden_layer_out*(1-self.hidden_layer_out)\n",
    "        \n",
    "        self.weights_hidden_to_output -= learn_rate*del_w_h_o\n",
    "        self.bias_hidden_to_output -= learn_rate*del_b_o[0,:]\n",
    "\n",
    "        self.weights_input_to_hidden -= learn_rate*del_w_i_h\n",
    "        self.bias_input_to_hidden -= learn_rate*del_b_h[0,:]\n",
    "        return error"
   ]
  },
  {
   "cell_type": "code",
   "execution_count": 0,
   "metadata": {
    "colab": {},
    "colab_type": "code",
    "collapsed": true,
    "id": "8pjuYDPDPcKi"
   },
   "outputs": [],
   "source": [
    "def train(nn, features, outputs, num_epochs, learn_rate, print_error=False):\n",
    "    \n",
    "    for e in range(num_epochs):\n",
    "        for input_x, output_y in zip(features, outputs):\n",
    "            input_x = input_x.reshape(1,-1)\n",
    "            output_y = output_y.reshape(1,-1)\n",
    "            \n",
    "            output_layer_out = nn.feed_forward(input_x)\n",
    "            \n",
    "            error = nn.back_propagate(input_x,output_y,learn_rate=learn_rate)\n",
    "\n",
    "        if print_error:\n",
    "            if e%200==0:\n",
    "                print(error[0][0])"
   ]
  },
  {
   "cell_type": "code",
   "execution_count": 0,
   "metadata": {
    "colab": {},
    "colab_type": "code",
    "collapsed": true,
    "id": "VcfeiJNmPtpZ"
   },
   "outputs": [],
   "source": [
    "def display_linear_boundary(ax, m, b, x_1_lims,x_2_lims,color='g--',label=None,linewidth=3.):\n",
    "    ax.set_xlim(x_1_lims)\n",
    "    ax.set_ylim(x_2_lims)\n",
    "    x = np.arange(-10, 10, 0.1)\n",
    "    ax.plot(x, m*x+b, color, label=label,linewidth=linewidth)\n",
    "    ax.set_yticklabels([])\n",
    "    ax.set_xticklabels([])\n",
    "    return ax"
   ]
  },
  {
   "cell_type": "code",
   "execution_count": 0,
   "metadata": {
    "colab": {},
    "colab_type": "code",
    "collapsed": true,
    "id": "95JZ0oEvPvor"
   },
   "outputs": [],
   "source": [
    "def plot_points_on_ax(ax,X, y,alpha):\n",
    "    dogs = X[np.argwhere(y==1)]\n",
    "    cats = X[np.argwhere(y==0)]\n",
    "    ax.scatter([s[0][0] for s in cats], [s[0][1] for s in cats], s = 25, \\\n",
    "               color = 'red', edgecolor = 'k', label='cats',alpha=alpha)\n",
    "    ax.scatter([s[0][0] for s in dogs], [s[0][1] for s in dogs], s = 25, \\\n",
    "               color = 'blue', edgecolor = 'k', label='dogs',alpha=alpha)\n",
    "    return ax"
   ]
  },
  {
   "cell_type": "code",
   "execution_count": 0,
   "metadata": {
    "colab": {},
    "colab_type": "code",
    "collapsed": true,
    "id": "MJRJB83QP7SG"
   },
   "outputs": [],
   "source": [
    "def create_decision_boundary_anim(nn,X,y,epochs=300,learn_rate=1e-3,snap_every=100,dpi=100,print_error=False, num_cols=2):\n",
    "        \n",
    "    hidden_units = nn.weights_hidden_to_output.shape[0]\n",
    "    \n",
    "    num_subplots = 1 + hidden_units\n",
    "    \n",
    "    num_rows = ceil(num_subplots/num_cols)\n",
    "    \n",
    "    fig,axes = plt.subplots(num_rows, num_cols, figsize=(num_cols*3,num_rows*3),dpi=dpi)\n",
    "\n",
    "    axes_list = list(axes.flat)\n",
    "    \n",
    "    for ax in axes.flat:\n",
    "        ax.set_yticklabels([])\n",
    "        ax.set_xticklabels([])\n",
    "        ax.get_xaxis().set_visible(False)\n",
    "        ax.get_yaxis().set_visible(False)\n",
    "    \n",
    "    final_dec_boundary_ax = axes_list[0]\n",
    "    \n",
    "    hidden_layer_ax = axes_list[1:hidden_units+1]\n",
    "    \n",
    "    camera = Camera(fig)\n",
    "\n",
    "    h = .02\n",
    "    \n",
    "    x_min, x_max = X[:, 0].min() - 0.5, X[:, 0].max() + 0.5\n",
    "    y_min, y_max = X[:, 1].min() - 0.5, X[:, 1].max() + 0.5\n",
    "    xx, yy = np.meshgrid(np.arange(x_min, x_max, h),\n",
    "                     np.arange(y_min, y_max, h))\n",
    "        \n",
    "    for e in range(ceil(epochs/snap_every)):\n",
    "        train(nn,X,y,snap_every,learn_rate,print_error=print_error)\n",
    "        Z = (nn.feed_forward(np.c_[xx.ravel(), yy.ravel()]) >0.5).astype(int)\n",
    "        Z = Z.reshape(xx.shape)\n",
    "        final_dec_boundary_ax.contourf(xx, yy, Z, cmap=plt.cm.RdBu)\n",
    "        \n",
    "        text_box = AnchoredText(f'Epoch: {snap_every*(e+1)}', frameon=True, loc=4, pad=0.5)\n",
    "        plt.setp(text_box.patch, facecolor='white', alpha=0.5)\n",
    "        final_dec_boundary_ax.add_artist(text_box)\n",
    "\n",
    "        Z_hidden = (nn.get_hidden_layer_in(np.c_[xx.ravel(), yy.ravel()]) >=0.).astype(int)\n",
    "        \n",
    "        for i,ax in enumerate(hidden_layer_ax):\n",
    "            Z_ = Z_hidden[:,i].reshape(-1,1)\n",
    "            Z_ = Z_.reshape(xx.shape)\n",
    "            ax.contourf(xx, yy, Z_, cmap=plt.cm.RdBu)\n",
    "            \n",
    "        camera.snap()\n",
    "\n",
    "    final_dec_boundary_ax = plot_points_on_ax(final_dec_boundary_ax,X, y,alpha=.6)\n",
    "    final_dec_boundary_ax.set_title(f'Decision boundary of MLP')\n",
    "    \n",
    "    for i,ax in enumerate(hidden_layer_ax):\n",
    "        ax = plot_points_on_ax(ax,X, y,alpha=.6)\n",
    "        ax.set_title(f'Hidden neuron {i+1}')\n",
    "           \n",
    "    plt.annotate('https://dhruvs.space', xy=(1, 0), xycoords='axes fraction', fontsize=9,\n",
    "                xytext=(0, -15), textcoords='offset points',\n",
    "                ha='right', va='top')\n",
    "    plt.tight_layout()\n",
    "    animation = camera.animate()\n",
    "\n",
    "    return animation"
   ]
  },
  {
   "cell_type": "code",
   "execution_count": 0,
   "metadata": {
    "colab": {},
    "colab_type": "code",
    "collapsed": true,
    "id": "d_cwXXktP8hc"
   },
   "outputs": [],
   "source": [
    "np.random.seed(10)\n",
    "nn = MLPNeuralNet(2, 3, 1)\n",
    "\n",
    "anim = create_decision_boundary_anim(nn,X,y,\\\n",
    "                                     epochs=300,dpi=40,\\\n",
    "                                     learn_rate=5e-2,snap_every=50,\\\n",
    "                                     print_error=True)\n",
    "plt.close()\n",
    "HTML(anim.to_html5_video())"
   ]
  },
  {
   "cell_type": "markdown",
   "metadata": {
    "colab_type": "text",
    "id": "DGifAPN4urHT"
   },
   "source": [
    "## Multilayer Perceptron with 3 layers"
   ]
  },
  {
   "cell_type": "code",
   "execution_count": 0,
   "metadata": {
    "colab": {},
    "colab_type": "code",
    "collapsed": true,
    "id": "gcXUwA6737pz"
   },
   "outputs": [],
   "source": [
    "input_x = X[0,:].reshape(1,-1)\n",
    "output_y = y[0].reshape(1,-1)"
   ]
  },
  {
   "cell_type": "code",
   "execution_count": 16,
   "metadata": {
    "colab": {
     "base_uri": "https://localhost:8080/",
     "height": 35
    },
    "colab_type": "code",
    "id": "GpYVPYYv46jf",
    "outputId": "e4bcb81c-90b6-4519-c4ec-c971e7ab072d"
   },
   "outputs": [
    {
     "data": {
      "text/plain": [
       "((1, 2), (1, 1))"
      ]
     },
     "execution_count": 16,
     "metadata": {
      "tags": []
     },
     "output_type": "execute_result"
    }
   ],
   "source": [
    "input_x.shape, output_y.shape"
   ]
  },
  {
   "cell_type": "code",
   "execution_count": 0,
   "metadata": {
    "colab": {},
    "colab_type": "code",
    "collapsed": true,
    "id": "fgyqRjv04Rgs"
   },
   "outputs": [],
   "source": [
    "N_input = 2\n",
    "N_hidden_1 = 4\n",
    "N_hidden_2 = 3\n",
    "N_output = 1"
   ]
  },
  {
   "cell_type": "code",
   "execution_count": 0,
   "metadata": {
    "colab": {},
    "colab_type": "code",
    "collapsed": true,
    "id": "DMpa0LIl4NRJ"
   },
   "outputs": [],
   "source": [
    "weights_input_to_hidden_1 = np.random.randn(N_input, N_hidden_1)*np.sqrt(1/N_hidden_1)\n",
    "weights_hidden_1_to_hidden_2 = np.random.randn(N_hidden_1, N_hidden_2)*np.sqrt(1/N_hidden_2)\n",
    "weights_hidden_2_to_output = np.random.randn(N_hidden_2, N_output)*np.sqrt(1/N_output)\n",
    "\n",
    "bias_input_to_hidden_1 = np.zeros(N_hidden_1)\n",
    "bias_hidden_1_to_hidden_2 = np.zeros(N_hidden_2)\n",
    "bias_hidden_2_to_output = np.zeros(N_output)"
   ]
  },
  {
   "cell_type": "code",
   "execution_count": 21,
   "metadata": {
    "colab": {
     "base_uri": "https://localhost:8080/",
     "height": 35
    },
    "colab_type": "code",
    "id": "GNjonxyQ4FC5",
    "outputId": "a42c9ca4-e8fc-48a3-be0d-3c40ba4a5cc2"
   },
   "outputs": [
    {
     "data": {
      "text/plain": [
       "(1, 4)"
      ]
     },
     "execution_count": 21,
     "metadata": {
      "tags": []
     },
     "output_type": "execute_result"
    }
   ],
   "source": [
    "hidden_layer_1_in = np.dot(input_x,weights_input_to_hidden_1) + bias_input_to_hidden_1\n",
    "hidden_layer_1_in.shape"
   ]
  },
  {
   "cell_type": "code",
   "execution_count": 22,
   "metadata": {
    "colab": {
     "base_uri": "https://localhost:8080/",
     "height": 35
    },
    "colab_type": "code",
    "id": "O_0qrre24j5G",
    "outputId": "cb12fa5d-ad9a-4d79-aa4f-2912d3c0d7d4"
   },
   "outputs": [
    {
     "data": {
      "text/plain": [
       "(1, 4)"
      ]
     },
     "execution_count": 22,
     "metadata": {
      "tags": []
     },
     "output_type": "execute_result"
    }
   ],
   "source": [
    "hidden_layer_1_out = sigmoid(hidden_layer_1_in)\n",
    "hidden_layer_1_out.shape"
   ]
  },
  {
   "cell_type": "code",
   "execution_count": 23,
   "metadata": {
    "colab": {
     "base_uri": "https://localhost:8080/",
     "height": 35
    },
    "colab_type": "code",
    "id": "npJndrui4rx8",
    "outputId": "e50391b0-9cb5-4600-b931-de0e273035ff"
   },
   "outputs": [
    {
     "data": {
      "text/plain": [
       "(1, 3)"
      ]
     },
     "execution_count": 23,
     "metadata": {
      "tags": []
     },
     "output_type": "execute_result"
    }
   ],
   "source": [
    "hidden_layer_2_in = np.dot(hidden_layer_1_out,weights_hidden_1_to_hidden_2) + bias_hidden_1_to_hidden_2\n",
    "hidden_layer_2_in.shape"
   ]
  },
  {
   "cell_type": "code",
   "execution_count": 24,
   "metadata": {
    "colab": {
     "base_uri": "https://localhost:8080/",
     "height": 35
    },
    "colab_type": "code",
    "id": "UWxOxXxI5GFZ",
    "outputId": "fa6c519b-6c26-4581-a4a8-3cf48c82591b"
   },
   "outputs": [
    {
     "data": {
      "text/plain": [
       "(1, 3)"
      ]
     },
     "execution_count": 24,
     "metadata": {
      "tags": []
     },
     "output_type": "execute_result"
    }
   ],
   "source": [
    "hidden_layer_2_out = sigmoid(hidden_layer_2_in)\n",
    "hidden_layer_2_out.shape"
   ]
  },
  {
   "cell_type": "code",
   "execution_count": 25,
   "metadata": {
    "colab": {
     "base_uri": "https://localhost:8080/",
     "height": 35
    },
    "colab_type": "code",
    "id": "jdxg8Mie5K5y",
    "outputId": "89871177-c148-4fdd-f408-d583d3f2f18f"
   },
   "outputs": [
    {
     "data": {
      "text/plain": [
       "(1, 1)"
      ]
     },
     "execution_count": 25,
     "metadata": {
      "tags": []
     },
     "output_type": "execute_result"
    }
   ],
   "source": [
    "output_layer_in = np.dot(hidden_layer_2_out,weights_hidden_2_to_output) + bias_hidden_2_to_output\n",
    "output_layer_in.shape"
   ]
  },
  {
   "cell_type": "code",
   "execution_count": 26,
   "metadata": {
    "colab": {
     "base_uri": "https://localhost:8080/",
     "height": 35
    },
    "colab_type": "code",
    "id": "Zrcx60DT5Qe6",
    "outputId": "136130fb-33f9-452f-fa67-60f1f714664a"
   },
   "outputs": [
    {
     "data": {
      "text/plain": [
       "(1, 1)"
      ]
     },
     "execution_count": 26,
     "metadata": {
      "tags": []
     },
     "output_type": "execute_result"
    }
   ],
   "source": [
    "output_layer_out = sigmoid(output_layer_in)\n",
    "output_layer_out.shape"
   ]
  },
  {
   "cell_type": "code",
   "execution_count": 27,
   "metadata": {
    "colab": {
     "base_uri": "https://localhost:8080/",
     "height": 35
    },
    "colab_type": "code",
    "id": "zLwcqO4x_akb",
    "outputId": "c68130e8-aa89-4c85-8a45-d389b9164711"
   },
   "outputs": [
    {
     "data": {
      "text/plain": [
       "array([[1.30734966]])"
      ]
     },
     "execution_count": 27,
     "metadata": {
      "tags": []
     },
     "output_type": "execute_result"
    }
   ],
   "source": [
    "error = (-1)*(output_y*np.log(output_layer_out) + (1-output_y)*np.log(1-output_layer_out))\n",
    "error"
   ]
  },
  {
   "cell_type": "code",
   "execution_count": 28,
   "metadata": {
    "colab": {
     "base_uri": "https://localhost:8080/",
     "height": 35
    },
    "colab_type": "code",
    "id": "nMdSEe3U_hDP",
    "outputId": "4eb327e6-5f6c-4255-c7fc-02a5287afe09"
   },
   "outputs": [
    {
     "data": {
      "text/plain": [
       "array([[3.69636411]])"
      ]
     },
     "execution_count": 28,
     "metadata": {
      "tags": []
     },
     "output_type": "execute_result"
    }
   ],
   "source": [
    "del_y_out = (-1)*output_y/output_layer_out + (1-output_y)/(1-output_layer_out)\n",
    "assert del_y_out.shape == output_layer_out.shape\n",
    "del_y_out"
   ]
  },
  {
   "cell_type": "code",
   "execution_count": 29,
   "metadata": {
    "colab": {
     "base_uri": "https://localhost:8080/",
     "height": 35
    },
    "colab_type": "code",
    "id": "ljpKHb65_rWD",
    "outputId": "85d6fec0-bdfe-4129-9b9d-5e210c54ab52"
   },
   "outputs": [
    {
     "data": {
      "text/plain": [
       "array([[ 0.98222332,  0.69578643, -0.18424711]])"
      ]
     },
     "execution_count": 29,
     "metadata": {
      "tags": []
     },
     "output_type": "execute_result"
    }
   ],
   "source": [
    "del_h_2 = del_y_out*output_layer_out*(1-output_layer_out)*weights_hidden_2_to_output.T\n",
    "assert del_h_2.shape == hidden_layer_2_out.shape\n",
    "del_h_2"
   ]
  },
  {
   "cell_type": "code",
   "execution_count": 30,
   "metadata": {
    "colab": {
     "base_uri": "https://localhost:8080/",
     "height": 69
    },
    "colab_type": "code",
    "id": "Ken2C81x_8zG",
    "outputId": "2c3b75d1-d117-406b-a32f-d0f83b7e627e"
   },
   "outputs": [
    {
     "data": {
      "text/plain": [
       "array([[0.38490508],\n",
       "       [0.33039262],\n",
       "       [0.43493646]])"
      ]
     },
     "execution_count": 30,
     "metadata": {
      "tags": []
     },
     "output_type": "execute_result"
    }
   ],
   "source": [
    "del_w_h_2_o = del_y_out*output_layer_out*(1-output_layer_out)*hidden_layer_2_out.T\n",
    "assert del_w_h_2_o.shape == weights_hidden_2_to_output.shape\n",
    "del_w_h_2_o"
   ]
  },
  {
   "cell_type": "code",
   "execution_count": 31,
   "metadata": {
    "colab": {
     "base_uri": "https://localhost:8080/",
     "height": 35
    },
    "colab_type": "code",
    "id": "ruSIhpqYAkYM",
    "outputId": "98c47b8e-164b-4e6d-c9b0-bb469ddb6151"
   },
   "outputs": [
    {
     "data": {
      "text/plain": [
       "array([0.72946388])"
      ]
     },
     "execution_count": 31,
     "metadata": {
      "tags": []
     },
     "output_type": "execute_result"
    }
   ],
   "source": [
    "del_b_2_o = (del_y_out*output_layer_out*(1-output_layer_out))[0]\n",
    "assert del_b_2_o.shape == bias_hidden_2_to_output.shape\n",
    "del_b_2_o"
   ]
  },
  {
   "cell_type": "code",
   "execution_count": 32,
   "metadata": {
    "colab": {
     "base_uri": "https://localhost:8080/",
     "height": 35
    },
    "colab_type": "code",
    "id": "YUbkDAvzq7Wh",
    "outputId": "1a31d2fb-cb23-4856-f203-15e43f98f64c"
   },
   "outputs": [
    {
     "data": {
      "text/plain": [
       "array([[-0.0099859 ,  0.21296845, -0.25630071,  0.02174339]])"
      ]
     },
     "execution_count": 32,
     "metadata": {
      "tags": []
     },
     "output_type": "execute_result"
    }
   ],
   "source": [
    "del_h_1 = np.dot(del_h_2*hidden_layer_2_out*(1-hidden_layer_2_out),weights_hidden_1_to_hidden_2.T)\n",
    "assert del_h_1.shape == hidden_layer_1_out.shape\n",
    "del_h_1"
   ]
  },
  {
   "cell_type": "code",
   "execution_count": 33,
   "metadata": {
    "colab": {
     "base_uri": "https://localhost:8080/",
     "height": 87
    },
    "colab_type": "code",
    "id": "qJPvWMZRCtlc",
    "outputId": "03cdcb27-5d8a-46d2-e2f1-0d91fc703661"
   },
   "outputs": [
    {
     "data": {
      "text/plain": [
       "array([[ 0.13521625,  0.09522663, -0.02449931],\n",
       "       [ 0.10612383,  0.07473816, -0.01922817],\n",
       "       [ 0.11346658,  0.07990933, -0.02055857],\n",
       "       [ 0.10408398,  0.07330159, -0.01885857]])"
      ]
     },
     "execution_count": 33,
     "metadata": {
      "tags": []
     },
     "output_type": "execute_result"
    }
   ],
   "source": [
    "del_w_h_1_h_2 = del_h_2*hidden_layer_2_out*(1-hidden_layer_2_out)*hidden_layer_1_out.T\n",
    "assert del_w_h_1_h_2.shape == weights_hidden_1_to_hidden_2.shape\n",
    "del_w_h_1_h_2"
   ]
  },
  {
   "cell_type": "code",
   "execution_count": 34,
   "metadata": {
    "colab": {
     "base_uri": "https://localhost:8080/",
     "height": 35
    },
    "colab_type": "code",
    "id": "9OvWqFSrC8YY",
    "outputId": "4272ac56-4386-469d-822d-747cb6d51a0a"
   },
   "outputs": [
    {
     "data": {
      "text/plain": [
       "array([ 0.24480464,  0.17240472, -0.04435521])"
      ]
     },
     "execution_count": 34,
     "metadata": {
      "tags": []
     },
     "output_type": "execute_result"
    }
   ],
   "source": [
    "del_b_h_1_h_2 = (del_h_2*hidden_layer_2_out*(1-hidden_layer_2_out))[0]\n",
    "assert del_b_h_1_h_2.shape == bias_hidden_1_to_hidden_2.shape\n",
    "del_b_h_1_h_2"
   ]
  },
  {
   "cell_type": "code",
   "execution_count": 35,
   "metadata": {
    "colab": {
     "base_uri": "https://localhost:8080/",
     "height": 52
    },
    "colab_type": "code",
    "id": "0rTq4SF5EItu",
    "outputId": "3d779c9f-72c1-408a-8253-a22118c1c5ee"
   },
   "outputs": [
    {
     "data": {
      "text/plain": [
       "array([[-0.0013237 ,  0.02803837, -0.03416776,  0.0028489 ],\n",
       "       [ 0.00153643, -0.03254447,  0.03965893, -0.00330675]])"
      ]
     },
     "execution_count": 35,
     "metadata": {
      "tags": []
     },
     "output_type": "execute_result"
    }
   ],
   "source": [
    "del_w_i_h_1 = del_h_1*hidden_layer_1_out*(1-hidden_layer_1_out)*input_x.T\n",
    "assert del_w_i_h_1.shape == weights_input_to_hidden_1.shape\n",
    "del_w_i_h_1"
   ]
  },
  {
   "cell_type": "code",
   "execution_count": 36,
   "metadata": {
    "colab": {
     "base_uri": "https://localhost:8080/",
     "height": 35
    },
    "colab_type": "code",
    "id": "ATPqlF7tES-M",
    "outputId": "ca0ed956-b665-4de6-82e9-bd08d62693ff"
   },
   "outputs": [
    {
     "data": {
      "text/plain": [
       "array([-0.00246912,  0.05230043, -0.06373369,  0.0053141 ])"
      ]
     },
     "execution_count": 36,
     "metadata": {
      "tags": []
     },
     "output_type": "execute_result"
    }
   ],
   "source": [
    "del_b_i_h_1 = (del_h_1*hidden_layer_1_out*(1-hidden_layer_1_out))[0]\n",
    "assert del_b_i_h_1.shape == bias_input_to_hidden_1.shape\n",
    "del_b_i_h_1"
   ]
  },
  {
   "cell_type": "code",
   "execution_count": 0,
   "metadata": {
    "colab": {},
    "colab_type": "code",
    "collapsed": true,
    "id": "VVuGNsIRF6-i"
   },
   "outputs": [],
   "source": [
    "learn_rate = 1e-3"
   ]
  },
  {
   "cell_type": "code",
   "execution_count": 0,
   "metadata": {
    "colab": {},
    "colab_type": "code",
    "collapsed": true,
    "id": "OJM6973bFxdy"
   },
   "outputs": [],
   "source": [
    "weights_hidden_2_to_output -= learn_rate*del_w_h_2_o\n",
    "bias_hidden_2_to_output -= learn_rate*del_b_2_o\n",
    "\n",
    "weights_hidden_1_to_hidden_2 -= learn_rate*del_w_h_1_h_2\n",
    "bias_hidden_1_to_hidden_2 -= learn_rate*del_b_h_1_h_2\n",
    "\n",
    "weights_input_to_hidden_1 -= learn_rate*del_w_i_h_1\n",
    "bias_input_to_hidden_1 -= learn_rate*del_b_i_h_1"
   ]
  },
  {
   "cell_type": "code",
   "execution_count": 0,
   "metadata": {
    "colab": {},
    "colab_type": "code",
    "collapsed": true,
    "id": "UaNOWAZLFBXL"
   },
   "outputs": [],
   "source": [
    "class MLPNeuralNet3Layers(object):\n",
    "    def __init__(self,N_input, N_hidden_1, N_hidden_2, N_output):\n",
    "\n",
    "        self.weights_input_to_hidden_1 = np.random.randn(N_input, N_hidden_1)*np.sqrt(1/N_hidden_1)\n",
    "        self.weights_hidden_1_to_hidden_2 = np.random.randn(N_hidden_1, N_hidden_2)*np.sqrt(1/N_hidden_2)\n",
    "        self.weights_hidden_2_to_output = np.random.randn(N_hidden_2, N_output)*np.sqrt(1/N_output)\n",
    "        \n",
    "        self.bias_input_to_hidden_1 = np.zeros(N_hidden_1)\n",
    "        self.bias_hidden_1_to_hidden_2 = np.zeros(N_hidden_2)\n",
    "        self.bias_hidden_2_to_output = np.zeros(N_output)\n",
    "               \n",
    "    def feed_forward(self,input_x):\n",
    "        self.hidden_layer_1_in = np.dot(input_x,self.weights_input_to_hidden_1) + self.bias_input_to_hidden_1\n",
    "        self.hidden_layer_1_out = sigmoid(self.hidden_layer_1_in)\n",
    "        self.hidden_layer_2_in = np.dot(self.hidden_layer_1_out,self.weights_hidden_1_to_hidden_2) + self.bias_hidden_1_to_hidden_2\n",
    "        self.hidden_layer_2_out = sigmoid(self.hidden_layer_2_in)\n",
    "        self.output_layer_in = np.dot(self.hidden_layer_2_out,self.weights_hidden_2_to_output) + self.bias_hidden_2_to_output\n",
    "        self.output_layer_out = sigmoid(self.output_layer_in)\n",
    "        \n",
    "        return self.output_layer_out\n",
    "\n",
    "    def get_hidden_layer_outputs(self,input_x):\n",
    "        self.hidden_layer_1_in = np.dot(input_x,self.weights_input_to_hidden_1) + self.bias_input_to_hidden_1\n",
    "        self.hidden_layer_1_out = sigmoid(self.hidden_layer_1_in)\n",
    "        self.hidden_layer_2_in = np.dot(self.hidden_layer_1_out,self.weights_hidden_1_to_hidden_2) + self.bias_hidden_1_to_hidden_2\n",
    "        \n",
    "        return (self.hidden_layer_1_in,self.hidden_layer_2_in)\n",
    "\n",
    "    def back_propagate(self,input_x,output_y, learn_rate):\n",
    "        error = (-1)*(output_y*np.log(self.output_layer_out) + (1-output_y)*np.log(1-self.output_layer_out))\n",
    "        del_y_out = (-1)*output_y/self.output_layer_out + (1-output_y)/(1-self.output_layer_out)\n",
    "        \n",
    "        del_h_2 = del_y_out*self.output_layer_out*(1-self.output_layer_out)*self.weights_hidden_2_to_output.T\n",
    "        del_w_h_2_o = del_y_out*self.output_layer_out*(1-self.output_layer_out)*self.hidden_layer_2_out.T\n",
    "        del_b_2_o = (del_y_out*self.output_layer_out*(1-self.output_layer_out))[0]\n",
    "        \n",
    "        del_h_1 = np.dot(del_h_2*self.hidden_layer_2_out*(1-self.hidden_layer_2_out),self.weights_hidden_1_to_hidden_2.T)\n",
    "        del_w_h_1_h_2 = del_h_2*self.hidden_layer_2_out*(1-self.hidden_layer_2_out)*self.hidden_layer_1_out.T\n",
    "        del_b_h_1_h_2 = (del_h_2*self.hidden_layer_2_out*(1-self.hidden_layer_2_out))[0]\n",
    "        \n",
    "        del_w_i_h_1 = del_h_1*self.hidden_layer_1_out*(1-self.hidden_layer_1_out)*input_x.T\n",
    "        del_b_i_h_1 = (del_h_1*self.hidden_layer_1_out*(1-self.hidden_layer_1_out))[0]\n",
    "        \n",
    "        self.weights_hidden_2_to_output -= learn_rate*del_w_h_2_o\n",
    "        self.bias_hidden_2_to_output -= learn_rate*del_b_2_o\n",
    "\n",
    "        self.weights_hidden_1_to_hidden_2 -= learn_rate*del_w_h_1_h_2\n",
    "        self.bias_hidden_1_to_hidden_2 -= learn_rate*del_b_h_1_h_2\n",
    "\n",
    "        self.weights_input_to_hidden_1 -= learn_rate*del_w_i_h_1\n",
    "        self.bias_input_to_hidden_1 -= learn_rate*del_b_i_h_1\n",
    "        \n",
    "        return error"
   ]
  },
  {
   "cell_type": "markdown",
   "metadata": {
    "colab_type": "text",
    "id": "YYeHF7QVNrJF"
   },
   "source": [
    "## Decision Boundaries"
   ]
  },
  {
   "cell_type": "code",
   "execution_count": 0,
   "metadata": {
    "colab": {},
    "colab_type": "code",
    "collapsed": true,
    "id": "4NYZX2rgkR-g"
   },
   "outputs": [],
   "source": [
    "def create_decision_boundary_anim(nn,X,y,epochs=300,learn_rate=1e-3,snap_every=100,dpi=100,print_error=False, num_cols=2):\n",
    "    \n",
    "    hidden_layer_1_units = nn.weights_hidden_1_to_hidden_2.shape[0]\n",
    "    hidden_layer_2_units = nn.weights_hidden_2_to_output.shape[0]\n",
    "    \n",
    "    num_subplots = 1 + hidden_layer_1_units + hidden_layer_2_units\n",
    "    \n",
    "    num_rows = ceil(num_subplots/num_cols)\n",
    "    \n",
    "    fig,axes = plt.subplots(num_rows, num_cols, figsize=(num_cols*3,num_rows*3),dpi=dpi)\n",
    "\n",
    "    axes_list = list(axes.flat)\n",
    "    \n",
    "    for ax in axes.flat:\n",
    "        ax.set_yticklabels([])\n",
    "        ax.set_xticklabels([])\n",
    "        ax.get_xaxis().set_visible(False)\n",
    "        ax.get_yaxis().set_visible(False)\n",
    "    \n",
    "    final_dec_boundary_ax = axes_list[0]\n",
    "    \n",
    "    hidden_layer_1_ax = axes_list[1:hidden_layer_1_units+1]\n",
    "    hidden_layer_2_ax = axes_list[hidden_layer_1_units+1:hidden_layer_1_units+1+hidden_layer_2_units]\n",
    "    \n",
    "    camera = Camera(fig)\n",
    "\n",
    "    h = .02\n",
    "    \n",
    "    extra_space = 0.5\n",
    "    x_min, x_max = X[:, 0].min() - extra_space, X[:, 0].max() + extra_space\n",
    "    y_min, y_max = X[:, 1].min() - extra_space, X[:, 1].max() + extra_space\n",
    "    xx, yy = np.meshgrid(np.arange(x_min, x_max, h),\n",
    "                     np.arange(y_min, y_max, h))\n",
    "    \n",
    "    \n",
    "    for e in range(ceil(epochs/snap_every)):\n",
    "        train(nn,X,y,snap_every,learn_rate,print_error=print_error)\n",
    "        Z = (nn.feed_forward(np.c_[xx.ravel(), yy.ravel()]) >0.5).astype(int)\n",
    "        Z = Z.reshape(xx.shape)\n",
    "        final_dec_boundary_ax.contourf(xx, yy, Z, cmap=plt.cm.RdBu)\n",
    "        \n",
    "        text_box = AnchoredText(f'Epoch: {snap_every*(e+1)}', frameon=True, loc=4, pad=0.5)\n",
    "        plt.setp(text_box.patch, facecolor='white', alpha=0.5)\n",
    "        final_dec_boundary_ax.add_artist(text_box)\n",
    "\n",
    "        Z_hidden_1, Z_hidden_2 = nn.get_hidden_layer_outputs(np.c_[xx.ravel(), yy.ravel()])\n",
    "        Z_hidden_1 = (Z_hidden_1 >=0.).astype(int)\n",
    "        Z_hidden_2 = (Z_hidden_2 >=0.).astype(int)\n",
    "        \n",
    "        for i,ax in enumerate(hidden_layer_1_ax):\n",
    "            Z_ = Z_hidden_1[:,i].reshape(-1,1)\n",
    "            Z_ = Z_.reshape(xx.shape)\n",
    "            ax.contourf(xx, yy, Z_, cmap=plt.cm.RdBu)\n",
    "        \n",
    "        for i,ax in enumerate(hidden_layer_2_ax):\n",
    "            Z_ = Z_hidden_2[:,i].reshape(-1,1)\n",
    "            Z_ = Z_.reshape(xx.shape)\n",
    "            ax.contourf(xx, yy, Z_, cmap=plt.cm.RdBu)\n",
    "            \n",
    "        camera.snap()\n",
    "\n",
    "    final_dec_boundary_ax = plot_points_on_ax(final_dec_boundary_ax,X, y,alpha=.6)\n",
    "    final_dec_boundary_ax.set_title(f'Decision boundary of MLP')\n",
    "    \n",
    "    for i,ax in enumerate(hidden_layer_1_ax):\n",
    "        ax = plot_points_on_ax(ax,X, y,alpha=.6)\n",
    "        ax.set_title(f'Hidden layer 1 neuron {i+1}')\n",
    "        \n",
    "    for i,ax in enumerate(hidden_layer_2_ax):\n",
    "        ax = plot_points_on_ax(ax,X, y,alpha=.6)\n",
    "        ax.set_title(f'Hidden layer 2 neuron {i+1}')\n",
    "    \n",
    "        \n",
    "    plt.annotate('https://dhruvs.space', xy=(1, 0), xycoords='axes fraction', fontsize=9,\n",
    "                xytext=(0, -15), textcoords='offset points',\n",
    "                ha='right', va='top')\n",
    "    plt.tight_layout()\n",
    "    animation = camera.animate()\n",
    "\n",
    "    return animation"
   ]
  },
  {
   "cell_type": "code",
   "execution_count": 0,
   "metadata": {
    "colab": {},
    "colab_type": "code",
    "collapsed": true,
    "id": "SH35PKkFUGd9"
   },
   "outputs": [],
   "source": [
    "np.random.seed(30)\n",
    "nn = MLPNeuralNet3Layers(2, 4, 3, 1)\n",
    "\n",
    "anim = create_decision_boundary_anim(nn,X,y,\\\n",
    "                                     epochs=400,dpi=100,\\\n",
    "                                     learn_rate=1e-2,snap_every=10,\\\n",
    "                                     print_error=False)\n",
    "plt.close()"
   ]
  },
  {
   "cell_type": "code",
   "execution_count": null,
   "metadata": {
    "colab": {},
    "colab_type": "code",
    "collapsed": true,
    "id": "I55t49EYZhJX"
   },
   "outputs": [],
   "source": [
    "HTML(anim.to_html5_video())"
   ]
  },
  {
   "cell_type": "code",
   "execution_count": null,
   "metadata": {
    "colab": {
     "base_uri": "https://localhost:8080/",
     "height": 461
    },
    "colab_type": "code",
    "collapsed": true,
    "id": "DMhVRKK_5NyR",
    "outputId": "e5ecd29b-e958-414e-96a8-40275f93b9b0"
   },
   "outputs": [],
   "source": [
    "X,y = make_classification(n_samples=1000, n_features=2, n_informative=2, \n",
    "                    n_redundant=0, n_repeated=0, n_classes=2, n_clusters_per_class=2,\n",
    "                          class_sep=1.,\n",
    "                   flip_y=0,weights=[0.5,0.5], random_state=902)\n",
    "fig = plt.figure(dpi=120)\n",
    "plot_points(X,y,alpha=.8)\n",
    "# plt.savefig('2.png')"
   ]
  },
  {
   "cell_type": "code",
   "execution_count": 0,
   "metadata": {
    "colab": {},
    "colab_type": "code",
    "collapsed": true,
    "id": "DH4iaWkBQJ-C"
   },
   "outputs": [],
   "source": [
    "np.random.seed(30)\n",
    "nn = MLPNeuralNet3Layers(2, 3, 2, 1)\n",
    "\n",
    "anim = create_decision_boundary_anim(nn,X,y,\\\n",
    "                                     epochs=600,dpi=100,\\\n",
    "                                     learn_rate=1e-2,snap_every=25,\\\n",
    "                                     print_error=True,\n",
    "                                     num_cols=3)\n",
    "plt.close()"
   ]
  },
  {
   "cell_type": "code",
   "execution_count": 0,
   "metadata": {
    "colab": {},
    "colab_type": "code",
    "collapsed": true,
    "id": "N4bZ42jqkcXT"
   },
   "outputs": [],
   "source": [
    "HTML(anim.to_html5_video())"
   ]
  },
  {
   "cell_type": "code",
   "execution_count": null,
   "metadata": {
    "colab": {
     "base_uri": "https://localhost:8080/",
     "height": 461
    },
    "colab_type": "code",
    "collapsed": true,
    "id": "d_cm_B8s7ikz",
    "outputId": "bdf94982-5f64-410a-fe67-dff91784e8e5"
   },
   "outputs": [],
   "source": [
    "X,y = make_moons(n_samples=500, shuffle=True, noise=.2, random_state=0)\n",
    "fig = plt.figure(dpi=120)\n",
    "plot_points(X,y,alpha=.8)\n",
    "# plt.savefig('3.png')"
   ]
  },
  {
   "cell_type": "code",
   "execution_count": 0,
   "metadata": {
    "colab": {},
    "colab_type": "code",
    "collapsed": true,
    "id": "QA_mhBaJ7_x8"
   },
   "outputs": [],
   "source": [
    "np.random.seed(30)\n",
    "nn = MLPNeuralNet3Layers(2, 3, 2, 1)\n",
    "\n",
    "anim = create_decision_boundary_anim(nn,X,y,\\\n",
    "                                     epochs=300,dpi=100,\\\n",
    "                                     learn_rate=5e-2,snap_every=10,\\\n",
    "                                     print_error=True,\n",
    "                                     num_cols=3)\n",
    "plt.close()"
   ]
  },
  {
   "cell_type": "code",
   "execution_count": 0,
   "metadata": {
    "colab": {},
    "colab_type": "code",
    "collapsed": true,
    "id": "dVFx2Acdkd61"
   },
   "outputs": [],
   "source": [
    "HTML(anim.to_html5_video())"
   ]
  },
  {
   "cell_type": "code",
   "execution_count": null,
   "metadata": {
    "colab": {
     "base_uri": "https://localhost:8080/",
     "height": 461
    },
    "colab_type": "code",
    "collapsed": true,
    "id": "UL3Z8jt5IPMM",
    "outputId": "fdeea0da-e608-4067-8616-0945f5ae25fc"
   },
   "outputs": [],
   "source": [
    "X,y = make_classification(n_samples=1000, n_features=2, n_informative=2, \n",
    "                    n_redundant=0, n_repeated=0, n_classes=2, n_clusters_per_class=2,\n",
    "                          class_sep=1.3,\n",
    "                   flip_y=0,weights=[0.5,0.5], random_state=910)\n",
    "\n",
    "fig = plt.figure(dpi=120)\n",
    "plot_points(X,y,alpha=.8)\n",
    "# plt.savefig('4.png')"
   ]
  },
  {
   "cell_type": "code",
   "execution_count": 0,
   "metadata": {
    "colab": {},
    "colab_type": "code",
    "collapsed": true,
    "id": "UMn4tv1OIS7u"
   },
   "outputs": [],
   "source": [
    "np.random.seed(30)\n",
    "nn = MLPNeuralNet3Layers(2, 3, 2, 1)\n",
    "\n",
    "anim = create_decision_boundary_anim(nn,X,y,\\\n",
    "                                     epochs=450,dpi=100,\\\n",
    "                                     learn_rate=5e-3,snap_every=10,\\\n",
    "                                     print_error=True,\\\n",
    "                                     num_cols=3)\n",
    "plt.close()"
   ]
  },
  {
   "cell_type": "code",
   "execution_count": 0,
   "metadata": {
    "colab": {},
    "colab_type": "code",
    "collapsed": true,
    "id": "BWLjvzm8UZsH"
   },
   "outputs": [],
   "source": [
    "HTML(anim.to_html5_video())"
   ]
  },
  {
   "cell_type": "markdown",
   "metadata": {},
   "source": [
    "## References\n",
    "- [Multilayer Perceptron](https://en.wikipedia.org/wiki/Multilayer_perceptron)\n",
    "- [Udacity's Deep Learning Nanodegree](https://www.udacity.com/course/deep-learning-nanodegree--nd101)"
   ]
  }
 ],
 "metadata": {
  "colab": {
   "collapsed_sections": [],
   "name": "ml-basics-issue-3.ipynb",
   "provenance": [],
   "version": "0.3.2"
  },
  "kernelspec": {
   "display_name": "Python 3",
   "language": "python",
   "name": "python3"
  },
  "language_info": {
   "codemirror_mode": {
    "name": "ipython",
    "version": 3
   },
   "file_extension": ".py",
   "mimetype": "text/x-python",
   "name": "python",
   "nbconvert_exporter": "python",
   "pygments_lexer": "ipython3",
   "version": "3.6.8"
  },
  "toc": {
   "base_numbering": 1,
   "nav_menu": {},
   "number_sections": false,
   "sideBar": false,
   "skip_h1_title": false,
   "title_cell": "Table of Contents",
   "title_sidebar": "Contents",
   "toc_cell": false,
   "toc_position": {},
   "toc_section_display": false,
   "toc_window_display": false
  }
 },
 "nbformat": 4,
 "nbformat_minor": 1
}
