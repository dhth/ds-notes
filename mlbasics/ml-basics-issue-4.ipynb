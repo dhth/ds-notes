{
 "cells": [
  {
   "cell_type": "markdown",
   "metadata": {
    "colab_type": "text",
    "id": "jEdC_x2Zr1Sf"
   },
   "source": [
    "Original blog post here: [https://dhruvs.space/posts/ml-basics-issue-4/](https://dhruvs.space/posts/ml-basics-issue-4/)."
   ]
  },
  {
   "cell_type": "markdown",
   "metadata": {},
   "source": [
    "<h2>Table of Contents<span class=\"tocSkip\"></span></h2>\n",
    "<div class=\"toc\"><ul class=\"toc-item\"><li><span><a href=\"#ReLU,-what-is-it?\" data-toc-modified-id=\"ReLU,-what-is-it?-1\">ReLU, what is it?</a></span></li><li><span><a href=\"#Setup\" data-toc-modified-id=\"Setup-2\">Setup</a></span></li><li><span><a href=\"#Feedforward\" data-toc-modified-id=\"Feedforward-3\">Feedforward</a></span></li><li><span><a href=\"#Backpropagation\" data-toc-modified-id=\"Backpropagation-4\">Backpropagation</a></span></li><li><span><a href=\"#Comparisons-in-training-performance\" data-toc-modified-id=\"Comparisons-in-training-performance-5\">Comparisons in training performance</a></span></li><li><span><a href=\"#References\" data-toc-modified-id=\"References-6\">References</a></span></li></ul></div>"
   ]
  },
  {
   "cell_type": "markdown",
   "metadata": {
    "colab_type": "text",
    "id": "u0dKVX1mYJjE"
   },
   "source": [
    "## ReLU, what is it?"
   ]
  },
  {
   "cell_type": "code",
   "execution_count": 0,
   "metadata": {
    "colab": {},
    "colab_type": "code",
    "collapsed": true,
    "id": "Nyorp--EZo_Z"
   },
   "outputs": [],
   "source": [
    "import numpy as np\n",
    "import matplotlib.pyplot as plt"
   ]
  },
  {
   "cell_type": "code",
   "execution_count": 0,
   "metadata": {
    "colab": {},
    "colab_type": "code",
    "collapsed": true,
    "id": "wyzwMvauZvHP"
   },
   "outputs": [],
   "source": [
    "def relu(x):\n",
    "    return np.maximum(x, 0., None)"
   ]
  },
  {
   "cell_type": "code",
   "execution_count": 0,
   "metadata": {
    "colab": {
     "base_uri": "https://localhost:8080/",
     "height": 52
    },
    "colab_type": "code",
    "id": "HU5jPlBVfv3J",
    "outputId": "a5c764c5-f1ad-42e8-bf7c-c3dd2d867cb6"
   },
   "outputs": [
    {
     "data": {
      "text/plain": [
       "array([[ 3,  0, -4],\n",
       "       [-4,  4,  1]])"
      ]
     },
     "execution_count": 10,
     "metadata": {
      "tags": []
     },
     "output_type": "execute_result"
    }
   ],
   "source": [
    "test_tensor = np.array([[3,0,-4],[-4,4,1]])\n",
    "test_tensor"
   ]
  },
  {
   "cell_type": "code",
   "execution_count": 0,
   "metadata": {
    "colab": {
     "base_uri": "https://localhost:8080/",
     "height": 52
    },
    "colab_type": "code",
    "id": "F3DjHCBufyD9",
    "outputId": "b951c1be-740d-4cbb-f215-b70d8ccbc204"
   },
   "outputs": [
    {
     "data": {
      "text/plain": [
       "array([[3., 0., 0.],\n",
       "       [0., 4., 1.]])"
      ]
     },
     "execution_count": 13,
     "metadata": {
      "tags": []
     },
     "output_type": "execute_result"
    }
   ],
   "source": [
    "relu(test_tensor)"
   ]
  },
  {
   "cell_type": "code",
   "execution_count": 0,
   "metadata": {
    "colab": {},
    "colab_type": "code",
    "collapsed": true,
    "id": "2EWN0dsUf0EJ"
   },
   "outputs": [],
   "source": [
    "def sigmoid(x):\n",
    "    return (1/(1+np.exp(-x)))"
   ]
  },
  {
   "cell_type": "code",
   "execution_count": 0,
   "metadata": {
    "colab": {},
    "colab_type": "code",
    "collapsed": true,
    "id": "s5GUSWM6Zx0j"
   },
   "outputs": [],
   "source": [
    "fig,axes = plt.subplots(1,2,figsize=(6,3),dpi=120)\n",
    "x = np.linspace(-10,10,200)\n",
    "\n",
    "for ax in axes.flat:\n",
    "    ax.axhline(y=0, color='k')\n",
    "    ax.axvline(x=0, color='k')\n",
    "    ax.grid(True)\n",
    "    \n",
    "axes[0].plot(x, sigmoid(x))\n",
    "axes[0].set_title('Sigmoid')\n",
    "\n",
    "axes[1].plot(x, relu(x))\n",
    "axes[1].set_xlim([-10, 10])\n",
    "axes[1].set_title('ReLU')\n",
    "\n",
    "plt.savefig('sig-vs-relu.png')\n",
    "plt.show()"
   ]
  },
  {
   "cell_type": "markdown",
   "metadata": {
    "colab_type": "text",
    "id": "3hjBmR5ycyiS"
   },
   "source": [
    "## Setup"
   ]
  },
  {
   "cell_type": "code",
   "execution_count": 0,
   "metadata": {
    "colab": {},
    "colab_type": "code",
    "collapsed": true,
    "id": "JkaRWD4BQTXV"
   },
   "outputs": [],
   "source": [
    "!apt-get -y update"
   ]
  },
  {
   "cell_type": "code",
   "execution_count": 0,
   "metadata": {
    "colab": {},
    "colab_type": "code",
    "collapsed": true,
    "id": "aTGAms12PHIR"
   },
   "outputs": [],
   "source": [
    "!apt-get -q install imagemagick\n",
    "!pip install -q celluloid\n",
    "#restart"
   ]
  },
  {
   "cell_type": "code",
   "execution_count": 0,
   "metadata": {
    "colab": {},
    "colab_type": "code",
    "collapsed": true,
    "id": "2ntY_1CPPd7_"
   },
   "outputs": [],
   "source": [
    "from sklearn.datasets import make_classification, make_circles, make_moons, make_blobs,make_checkerboard\n",
    "import pandas as pd\n",
    "from IPython.display import HTML,clear_output\n",
    "import pickle\n",
    "from math import ceil\n",
    "from matplotlib.offsetbox import AnchoredText\n",
    "from celluloid import Camera"
   ]
  },
  {
   "cell_type": "code",
   "execution_count": 0,
   "metadata": {
    "colab": {},
    "colab_type": "code",
    "collapsed": true,
    "id": "QzeqWVefP1m1"
   },
   "outputs": [],
   "source": [
    "def plot_points(X, y, alpha=None):\n",
    "    dogs = X[np.argwhere(y==1)]\n",
    "    cats = X[np.argwhere(y==0)]\n",
    "    plt.scatter([s[0][0] for s in cats], [s[0][1] for s in cats], s = 25, \\\n",
    "                color = 'red', edgecolor = 'k', label='cat', alpha=alpha)\n",
    "    plt.scatter([s[0][0] for s in dogs], [s[0][1] for s in dogs], s = 25, \\\n",
    "                color = 'blue', edgecolor = 'k', label='dog', alpha=alpha)\n",
    "    plt.xlabel('$x_1$')\n",
    "    plt.ylabel('$x_2$')\n",
    "    plt.legend()"
   ]
  },
  {
   "cell_type": "code",
   "execution_count": 0,
   "metadata": {
    "colab": {},
    "colab_type": "code",
    "collapsed": true,
    "id": "pC0WMRx2FhkM"
   },
   "outputs": [],
   "source": [
    "!wget -q https://gist.githubusercontent.com/dhth/fcd27938c26dbc6124c1c70646a52cfc/raw/2fabb32c1008afefeaf006fcf7602638de0c8699/exor_dataset.csv"
   ]
  },
  {
   "cell_type": "code",
   "execution_count": 0,
   "metadata": {
    "colab": {},
    "colab_type": "code",
    "collapsed": true,
    "id": "z6splnvHGezk"
   },
   "outputs": [],
   "source": [
    "data = pd.read_csv('exor_dataset.csv', header=None)\n",
    "\n",
    "X = np.array(data[[0,1]])\n",
    "y = np.array(data[2]).astype(int)\n",
    "plot_points(X,y)\n",
    "plt.xlim(X[:,0].min()-0.5,X[:,0].max()+0.5)\n",
    "plt.ylim(X[:,1].min()-0.5,X[:,1].max()+0.5)\n",
    "\n",
    "plt.show()"
   ]
  },
  {
   "cell_type": "code",
   "execution_count": 0,
   "metadata": {
    "colab": {},
    "colab_type": "code",
    "collapsed": true,
    "id": "VcfeiJNmPtpZ"
   },
   "outputs": [],
   "source": [
    "def display_linear_boundary(ax, m, b, x_1_lims,x_2_lims,color='g--',label=None,linewidth=3.):\n",
    "    ax.set_xlim(x_1_lims)\n",
    "    ax.set_ylim(x_2_lims)\n",
    "    x = np.arange(-10, 10, 0.1)\n",
    "    ax.plot(x, m*x+b, color, label=label,linewidth=linewidth)\n",
    "    ax.set_yticklabels([])\n",
    "    ax.set_xticklabels([])\n",
    "    return ax"
   ]
  },
  {
   "cell_type": "code",
   "execution_count": 0,
   "metadata": {
    "colab": {},
    "colab_type": "code",
    "collapsed": true,
    "id": "95JZ0oEvPvor"
   },
   "outputs": [],
   "source": [
    "def plot_points_on_ax(ax,X, y,alpha):\n",
    "    dogs = X[np.argwhere(y==1)]\n",
    "    cats = X[np.argwhere(y==0)]\n",
    "    ax.scatter([s[0][0] for s in cats], [s[0][1] for s in cats], s = 25, \\\n",
    "               color = 'red', edgecolor = 'k', label='cats',alpha=alpha)\n",
    "    ax.scatter([s[0][0] for s in dogs], [s[0][1] for s in dogs], s = 25, \\\n",
    "               color = 'blue', edgecolor = 'k', label='dogs',alpha=alpha)\n",
    "    return ax"
   ]
  },
  {
   "cell_type": "markdown",
   "metadata": {
    "colab_type": "text",
    "id": "DGifAPN4urHT"
   },
   "source": [
    "## Feedforward"
   ]
  },
  {
   "cell_type": "code",
   "execution_count": 0,
   "metadata": {
    "colab": {},
    "colab_type": "code",
    "collapsed": true,
    "id": "gcXUwA6737pz"
   },
   "outputs": [],
   "source": [
    "input_x = X[0,:].reshape(1,-1)\n",
    "output_y = y[0].reshape(1,-1)"
   ]
  },
  {
   "cell_type": "code",
   "execution_count": 0,
   "metadata": {
    "colab": {
     "base_uri": "https://localhost:8080/",
     "height": 35
    },
    "colab_type": "code",
    "id": "GpYVPYYv46jf",
    "outputId": "506f840d-23a3-4686-d2d6-dba92a3b245a"
   },
   "outputs": [
    {
     "data": {
      "text/plain": [
       "((1, 2), (1, 1))"
      ]
     },
     "execution_count": 15,
     "metadata": {
      "tags": []
     },
     "output_type": "execute_result"
    }
   ],
   "source": [
    "input_x.shape, output_y.shape"
   ]
  },
  {
   "cell_type": "code",
   "execution_count": 0,
   "metadata": {
    "colab": {},
    "colab_type": "code",
    "collapsed": true,
    "id": "fgyqRjv04Rgs"
   },
   "outputs": [],
   "source": [
    "N_input = 2\n",
    "N_hidden_1 = 2\n",
    "N_hidden_2 = 4\n",
    "N_output = 1"
   ]
  },
  {
   "cell_type": "code",
   "execution_count": 0,
   "metadata": {
    "colab": {},
    "colab_type": "code",
    "collapsed": true,
    "id": "DMpa0LIl4NRJ"
   },
   "outputs": [],
   "source": [
    "weights_input_to_hidden_1 = np.random.randn(N_input, N_hidden_1)*np.sqrt(2/N_hidden_1)\n",
    "weights_hidden_1_to_hidden_2 = np.random.randn(N_hidden_1, N_hidden_2)*np.sqrt(2/N_hidden_2)\n",
    "weights_hidden_2_to_output = np.random.randn(N_hidden_2, N_output)*np.sqrt(2/N_output)\n",
    "\n",
    "bias_input_to_hidden_1 = np.zeros(N_hidden_1)\n",
    "bias_hidden_1_to_hidden_2 = np.zeros(N_hidden_2)\n",
    "bias_hidden_2_to_output = np.zeros(N_output)"
   ]
  },
  {
   "cell_type": "code",
   "execution_count": 0,
   "metadata": {
    "colab": {
     "base_uri": "https://localhost:8080/",
     "height": 35
    },
    "colab_type": "code",
    "id": "GNjonxyQ4FC5",
    "outputId": "6bc05b77-9086-435a-d5d6-72dd73d44bd7"
   },
   "outputs": [
    {
     "data": {
      "text/plain": [
       "array([[1.47147777, 0.01504609]])"
      ]
     },
     "execution_count": 39,
     "metadata": {
      "tags": []
     },
     "output_type": "execute_result"
    }
   ],
   "source": [
    "hidden_layer_1_in = np.dot(input_x,weights_input_to_hidden_1) + bias_input_to_hidden_1\n",
    "hidden_layer_1_in"
   ]
  },
  {
   "cell_type": "code",
   "execution_count": 0,
   "metadata": {
    "colab": {
     "base_uri": "https://localhost:8080/",
     "height": 35
    },
    "colab_type": "code",
    "id": "O_0qrre24j5G",
    "outputId": "b22c4595-861e-42b8-8933-f73174d8a9b4"
   },
   "outputs": [
    {
     "data": {
      "text/plain": [
       "array([[1.47147777, 0.01504609]])"
      ]
     },
     "execution_count": 40,
     "metadata": {
      "tags": []
     },
     "output_type": "execute_result"
    }
   ],
   "source": [
    "hidden_layer_1_out = relu(hidden_layer_1_in)\n",
    "hidden_layer_1_out"
   ]
  },
  {
   "cell_type": "code",
   "execution_count": 0,
   "metadata": {
    "colab": {
     "base_uri": "https://localhost:8080/",
     "height": 35
    },
    "colab_type": "code",
    "id": "npJndrui4rx8",
    "outputId": "fb784dc1-e0d3-4a77-d2fa-292123478c53"
   },
   "outputs": [
    {
     "data": {
      "text/plain": [
       "array([[-0.59685335,  0.51556188,  0.36665501,  0.941473  ]])"
      ]
     },
     "execution_count": 41,
     "metadata": {
      "tags": []
     },
     "output_type": "execute_result"
    }
   ],
   "source": [
    "hidden_layer_2_in = np.dot(hidden_layer_1_out,weights_hidden_1_to_hidden_2) + bias_hidden_1_to_hidden_2\n",
    "hidden_layer_2_in"
   ]
  },
  {
   "cell_type": "code",
   "execution_count": 0,
   "metadata": {
    "colab": {
     "base_uri": "https://localhost:8080/",
     "height": 35
    },
    "colab_type": "code",
    "id": "UWxOxXxI5GFZ",
    "outputId": "80d8497a-a750-4edc-ef3f-2fb1266601f8"
   },
   "outputs": [
    {
     "data": {
      "text/plain": [
       "array([[0.        , 0.51556188, 0.36665501, 0.941473  ]])"
      ]
     },
     "execution_count": 42,
     "metadata": {
      "tags": []
     },
     "output_type": "execute_result"
    }
   ],
   "source": [
    "hidden_layer_2_out = relu(hidden_layer_2_in)\n",
    "hidden_layer_2_out"
   ]
  },
  {
   "cell_type": "code",
   "execution_count": 0,
   "metadata": {
    "colab": {
     "base_uri": "https://localhost:8080/",
     "height": 35
    },
    "colab_type": "code",
    "id": "jdxg8Mie5K5y",
    "outputId": "5a6a4eed-0b58-4475-f485-dbe777b42161"
   },
   "outputs": [
    {
     "data": {
      "text/plain": [
       "array([[1.96296335]])"
      ]
     },
     "execution_count": 43,
     "metadata": {
      "tags": []
     },
     "output_type": "execute_result"
    }
   ],
   "source": [
    "output_layer_in = np.dot(hidden_layer_2_out,weights_hidden_2_to_output) + bias_hidden_2_to_output\n",
    "output_layer_in"
   ]
  },
  {
   "cell_type": "code",
   "execution_count": 0,
   "metadata": {
    "colab": {
     "base_uri": "https://localhost:8080/",
     "height": 35
    },
    "colab_type": "code",
    "id": "Zrcx60DT5Qe6",
    "outputId": "86e550f3-98f3-402c-eb2e-83e866b1a48e"
   },
   "outputs": [
    {
     "data": {
      "text/plain": [
       "array([[0.8768533]])"
      ]
     },
     "execution_count": 44,
     "metadata": {
      "tags": []
     },
     "output_type": "execute_result"
    }
   ],
   "source": [
    "output_layer_out = sigmoid(output_layer_in)\n",
    "output_layer_out"
   ]
  },
  {
   "cell_type": "markdown",
   "metadata": {},
   "source": [
    "## Backpropagation"
   ]
  },
  {
   "cell_type": "code",
   "execution_count": 0,
   "metadata": {
    "colab": {
     "base_uri": "https://localhost:8080/",
     "height": 35
    },
    "colab_type": "code",
    "id": "zLwcqO4x_akb",
    "outputId": "407a3826-57b5-4efc-e4ae-80f0f11c03aa"
   },
   "outputs": [
    {
     "data": {
      "text/plain": [
       "array([[2.09437893]])"
      ]
     },
     "execution_count": 27,
     "metadata": {
      "tags": []
     },
     "output_type": "execute_result"
    }
   ],
   "source": [
    "error = (-1)*(output_y*np.log(output_layer_out) + (1-output_y)*np.log(1-output_layer_out))\n",
    "error"
   ]
  },
  {
   "cell_type": "code",
   "execution_count": 0,
   "metadata": {
    "colab": {
     "base_uri": "https://localhost:8080/",
     "height": 35
    },
    "colab_type": "code",
    "id": "nMdSEe3U_hDP",
    "outputId": "23843566-4476-412e-d767-180028af8d5c"
   },
   "outputs": [
    {
     "data": {
      "text/plain": [
       "array([[8.12039603]])"
      ]
     },
     "execution_count": 45,
     "metadata": {
      "tags": []
     },
     "output_type": "execute_result"
    }
   ],
   "source": [
    "del_y_out = (-1)*output_y/output_layer_out + (1-output_y)/(1-output_layer_out)\n",
    "assert del_y_out.shape == output_layer_out.shape\n",
    "del_y_out"
   ]
  },
  {
   "cell_type": "code",
   "execution_count": 0,
   "metadata": {
    "colab": {
     "base_uri": "https://localhost:8080/",
     "height": 35
    },
    "colab_type": "code",
    "id": "ljpKHb65_rWD",
    "outputId": "ec6ba253-eefd-4838-9b53-dd3baabfd215"
   },
   "outputs": [
    {
     "data": {
      "text/plain": [
       "array([[-0.44106764,  0.65044284, -1.85483439,  2.19440352]])"
      ]
     },
     "execution_count": 46,
     "metadata": {
      "tags": []
     },
     "output_type": "execute_result"
    }
   ],
   "source": [
    "del_h_2 = del_y_out*output_layer_out*(1-output_layer_out)*weights_hidden_2_to_output.T\n",
    "assert del_h_2.shape == hidden_layer_2_out.shape\n",
    "del_h_2"
   ]
  },
  {
   "cell_type": "code",
   "execution_count": 0,
   "metadata": {
    "colab": {
     "base_uri": "https://localhost:8080/",
     "height": 87
    },
    "colab_type": "code",
    "id": "Ken2C81x_8zG",
    "outputId": "d6eab417-4015-4112-d275-09122826e85f"
   },
   "outputs": [
    {
     "data": {
      "text/plain": [
       "array([[0.        ],\n",
       "       [0.45207213],\n",
       "       [0.32150266],\n",
       "       [0.82553371]])"
      ]
     },
     "execution_count": 47,
     "metadata": {
      "tags": []
     },
     "output_type": "execute_result"
    }
   ],
   "source": [
    "del_w_h_2_o = del_y_out*output_layer_out*(1-output_layer_out)*hidden_layer_2_out.T\n",
    "assert del_w_h_2_o.shape == weights_hidden_2_to_output.shape\n",
    "del_w_h_2_o"
   ]
  },
  {
   "cell_type": "code",
   "execution_count": 0,
   "metadata": {
    "colab": {
     "base_uri": "https://localhost:8080/",
     "height": 35
    },
    "colab_type": "code",
    "id": "ruSIhpqYAkYM",
    "outputId": "e2df12e0-0eb0-4134-cb1c-549e22bb8e1b"
   },
   "outputs": [
    {
     "data": {
      "text/plain": [
       "array([0.8768533])"
      ]
     },
     "execution_count": 48,
     "metadata": {
      "tags": []
     },
     "output_type": "execute_result"
    }
   ],
   "source": [
    "del_b_2_o = (del_y_out*output_layer_out*(1-output_layer_out))[0]\n",
    "assert del_b_2_o.shape == bias_hidden_2_to_output.shape\n",
    "del_b_2_o"
   ]
  },
  {
   "cell_type": "code",
   "execution_count": 0,
   "metadata": {
    "colab": {
     "base_uri": "https://localhost:8080/",
     "height": 35
    },
    "colab_type": "code",
    "id": "YUbkDAvzq7Wh",
    "outputId": "c67288fa-99a5-45a4-d278-afabf707ae34"
   },
   "outputs": [
    {
     "data": {
      "text/plain": [
       "array([[1.1633982 , 0.61918386]])"
      ]
     },
     "execution_count": 49,
     "metadata": {
      "tags": []
     },
     "output_type": "execute_result"
    }
   ],
   "source": [
    "hidden_layer_2_mask = hidden_layer_2_in >=0\n",
    "del_h_1 = np.dot(del_h_2*hidden_layer_2_mask,weights_hidden_1_to_hidden_2.T)\n",
    "assert del_h_1.shape == hidden_layer_1_out.shape\n",
    "del_h_1"
   ]
  },
  {
   "cell_type": "code",
   "execution_count": 0,
   "metadata": {
    "colab": {
     "base_uri": "https://localhost:8080/",
     "height": 52
    },
    "colab_type": "code",
    "id": "qJPvWMZRCtlc",
    "outputId": "d96dc96b-65dd-4741-dcc5-595f438808b0"
   },
   "outputs": [
    {
     "data": {
      "text/plain": [
       "array([[-0.        ,  0.95711217, -2.72934756,  3.22901599],\n",
       "       [-0.        ,  0.00978662, -0.027908  ,  0.03301719]])"
      ]
     },
     "execution_count": 50,
     "metadata": {
      "tags": []
     },
     "output_type": "execute_result"
    }
   ],
   "source": [
    "del_w_h_1_h_2 = del_h_2*hidden_layer_2_mask*hidden_layer_1_out.T\n",
    "assert del_w_h_1_h_2.shape == weights_hidden_1_to_hidden_2.shape\n",
    "del_w_h_1_h_2"
   ]
  },
  {
   "cell_type": "code",
   "execution_count": 0,
   "metadata": {
    "colab": {
     "base_uri": "https://localhost:8080/",
     "height": 35
    },
    "colab_type": "code",
    "id": "9OvWqFSrC8YY",
    "outputId": "c6707ae6-f531-4a33-ae30-182469ee1e6b"
   },
   "outputs": [
    {
     "data": {
      "text/plain": [
       "array([-0.        ,  0.65044284, -1.85483439,  2.19440352])"
      ]
     },
     "execution_count": 51,
     "metadata": {
      "tags": []
     },
     "output_type": "execute_result"
    }
   ],
   "source": [
    "del_b_h_1_h_2 = (del_h_2*hidden_layer_2_mask)[0]\n",
    "assert del_b_h_1_h_2.shape == bias_hidden_1_to_hidden_2.shape\n",
    "del_b_h_1_h_2"
   ]
  },
  {
   "cell_type": "code",
   "execution_count": 0,
   "metadata": {
    "colab": {
     "base_uri": "https://localhost:8080/",
     "height": 35
    },
    "colab_type": "code",
    "id": "Y60Ul06jt7_f",
    "outputId": "45693aca-9854-40e6-f017-a1306578d073"
   },
   "outputs": [
    {
     "data": {
      "text/plain": [
       "((4,), (4,))"
      ]
     },
     "execution_count": 52,
     "metadata": {
      "tags": []
     },
     "output_type": "execute_result"
    }
   ],
   "source": [
    "del_b_h_1_h_2.shape,(del_h_2*hidden_layer_2_mask)[0].shape"
   ]
  },
  {
   "cell_type": "code",
   "execution_count": 0,
   "metadata": {
    "colab": {
     "base_uri": "https://localhost:8080/",
     "height": 52
    },
    "colab_type": "code",
    "id": "0rTq4SF5EItu",
    "outputId": "9e6900a0-1fbf-4898-beff-132004b88d0c"
   },
   "outputs": [
    {
     "data": {
      "text/plain": [
       "array([[ 0.6237001 ,  0.3319457 ],\n",
       "       [-0.72393617, -0.38529335]])"
      ]
     },
     "execution_count": 53,
     "metadata": {
      "tags": []
     },
     "output_type": "execute_result"
    }
   ],
   "source": [
    "hidden_layer_1_mask = hidden_layer_1_in >=0\n",
    "del_w_i_h_1 = del_h_1*hidden_layer_1_mask*input_x.T\n",
    "assert del_w_i_h_1.shape == weights_input_to_hidden_1.shape\n",
    "del_w_i_h_1"
   ]
  },
  {
   "cell_type": "code",
   "execution_count": 0,
   "metadata": {
    "colab": {
     "base_uri": "https://localhost:8080/",
     "height": 35
    },
    "colab_type": "code",
    "id": "ATPqlF7tES-M",
    "outputId": "52e8c0ce-d60d-41cb-8d1c-1ec8f13efaca"
   },
   "outputs": [
    {
     "data": {
      "text/plain": [
       "array([1.1633982 , 0.61918386])"
      ]
     },
     "execution_count": 54,
     "metadata": {
      "tags": []
     },
     "output_type": "execute_result"
    }
   ],
   "source": [
    "del_b_i_h_1 = (del_h_1*hidden_layer_1_mask)[0]\n",
    "assert del_b_i_h_1.shape == bias_input_to_hidden_1.shape\n",
    "del_b_i_h_1"
   ]
  },
  {
   "cell_type": "code",
   "execution_count": 0,
   "metadata": {
    "colab": {},
    "colab_type": "code",
    "collapsed": true,
    "id": "VVuGNsIRF6-i"
   },
   "outputs": [],
   "source": [
    "learn_rate = 1e-3"
   ]
  },
  {
   "cell_type": "code",
   "execution_count": 0,
   "metadata": {
    "colab": {},
    "colab_type": "code",
    "collapsed": true,
    "id": "OJM6973bFxdy"
   },
   "outputs": [],
   "source": [
    "weights_hidden_2_to_output -= learn_rate*del_w_h_2_o\n",
    "bias_hidden_2_to_output -= learn_rate*del_b_2_o\n",
    "\n",
    "weights_hidden_1_to_hidden_2 -= learn_rate*del_w_h_1_h_2\n",
    "bias_hidden_1_to_hidden_2 -= learn_rate*del_b_h_1_h_2\n",
    "\n",
    "weights_input_to_hidden_1 -= learn_rate*del_w_i_h_1\n",
    "bias_input_to_hidden_1 -= learn_rate*del_b_i_h_1"
   ]
  },
  {
   "cell_type": "code",
   "execution_count": 0,
   "metadata": {
    "colab": {},
    "colab_type": "code",
    "collapsed": true,
    "id": "a3ijOL6wCsfC"
   },
   "outputs": [],
   "source": [
    "class MLPNeuralNet3LayersReLU(object):\n",
    "    def __init__(self,N_input, N_hidden_1, N_hidden_2, N_output,seed=None):\n",
    "        \n",
    "        if seed:\n",
    "            np.random.seed(seed)\n",
    "            \n",
    "        self.weights_input_to_hidden_1 = np.random.randn(N_input, N_hidden_1)*np.sqrt(2/N_hidden_1)\n",
    "        self.weights_hidden_1_to_hidden_2 = np.random.randn(N_hidden_1, N_hidden_2)*np.sqrt(2/N_hidden_2)\n",
    "        self.weights_hidden_2_to_output = np.random.randn(N_hidden_2, N_output)*np.sqrt(2/N_output)\n",
    "        \n",
    "        self.bias_input_to_hidden_1 = np.zeros(N_hidden_1)\n",
    "        self.bias_hidden_1_to_hidden_2 = np.zeros(N_hidden_2)\n",
    "        self.bias_hidden_2_to_output = np.zeros(N_output)\n",
    "               \n",
    "    def feed_forward(self,input_x):\n",
    "        self.hidden_layer_1_in = np.dot(input_x,self.weights_input_to_hidden_1) + self.bias_input_to_hidden_1\n",
    "        self.hidden_layer_1_out = relu(self.hidden_layer_1_in)\n",
    "        self.hidden_layer_2_in = np.dot(self.hidden_layer_1_out,self.weights_hidden_1_to_hidden_2) + self.bias_hidden_1_to_hidden_2\n",
    "        self.hidden_layer_2_out = relu(self.hidden_layer_2_in)\n",
    "        self.output_layer_in = np.dot(self.hidden_layer_2_out,self.weights_hidden_2_to_output) + self.bias_hidden_2_to_output\n",
    "        self.output_layer_out = sigmoid(self.output_layer_in)\n",
    "        \n",
    "        return self.output_layer_out\n",
    "\n",
    "    def get_hidden_layer_outputs(self,input_x):\n",
    "        hidden_layer_1_in = np.dot(input_x,self.weights_input_to_hidden_1) + self.bias_input_to_hidden_1\n",
    "        hidden_layer_1_out = relu(hidden_layer_1_in)\n",
    "        hidden_layer_2_in = np.dot(hidden_layer_1_out,self.weights_hidden_1_to_hidden_2) + self.bias_hidden_1_to_hidden_2\n",
    "        \n",
    "        return (hidden_layer_1_in,hidden_layer_2_in)\n",
    "\n",
    "    def feed_forward_and_back_propagate(self,input_x,output_y, learn_rate):\n",
    "        self.hidden_layer_1_in = np.dot(input_x,self.weights_input_to_hidden_1) + self.bias_input_to_hidden_1\n",
    "        self.hidden_layer_1_out = relu(self.hidden_layer_1_in)\n",
    "        self.hidden_layer_2_in = np.dot(self.hidden_layer_1_out,self.weights_hidden_1_to_hidden_2) + self.bias_hidden_1_to_hidden_2\n",
    "        self.hidden_layer_2_out = relu(self.hidden_layer_2_in)\n",
    "        self.output_layer_in = np.dot(self.hidden_layer_2_out,self.weights_hidden_2_to_output) + self.bias_hidden_2_to_output\n",
    "        self.output_layer_out = sigmoid(self.output_layer_in)\n",
    "        \n",
    "        error = (-1)*(output_y*np.log(self.output_layer_out) + (1-output_y)*np.log(1-self.output_layer_out))\n",
    "        del_y_out = (-1)*output_y/self.output_layer_out + (1-output_y)/(1-self.output_layer_out)\n",
    "        \n",
    "        del_h_2 = del_y_out*self.output_layer_out*(1-self.output_layer_out)*self.weights_hidden_2_to_output.T\n",
    "        del_w_h_2_o = del_y_out*self.output_layer_out*(1-self.output_layer_out)*self.hidden_layer_2_out.T\n",
    "        del_b_2_o = (del_y_out*self.output_layer_out*(1-self.output_layer_out))[0]\n",
    "        \n",
    "        hidden_layer_2_mask = self.hidden_layer_2_in>0\n",
    "        del_h_1 = np.dot(del_h_2*hidden_layer_2_mask,self.weights_hidden_1_to_hidden_2.T)\n",
    "\n",
    "        del_w_h_1_h_2 = del_h_2*hidden_layer_2_mask*self.hidden_layer_1_out.T\n",
    "        del_b_h_1_h_2 = (del_h_2*hidden_layer_2_mask)[0]\n",
    "        \n",
    "        hidden_layer_1_mask = self.hidden_layer_1_in >0\n",
    "        del_w_i_h_1 = del_h_1*hidden_layer_1_mask*input_x.T\n",
    "        del_b_i_h_1 = (del_h_1*hidden_layer_1_mask)[0]\n",
    "\n",
    "        self.weights_hidden_2_to_output -= learn_rate*del_w_h_2_o\n",
    "        self.bias_hidden_2_to_output -= learn_rate*del_b_2_o\n",
    "\n",
    "        self.weights_hidden_1_to_hidden_2 -= learn_rate*del_w_h_1_h_2\n",
    "        self.bias_hidden_1_to_hidden_2 -= learn_rate*del_b_h_1_h_2\n",
    "\n",
    "        self.weights_input_to_hidden_1 -= learn_rate*del_w_i_h_1\n",
    "        self.bias_input_to_hidden_1 -= learn_rate*del_b_i_h_1\n",
    "        \n",
    "        return error"
   ]
  },
  {
   "cell_type": "code",
   "execution_count": 0,
   "metadata": {
    "colab": {},
    "colab_type": "code",
    "collapsed": true,
    "id": "UaNOWAZLFBXL"
   },
   "outputs": [],
   "source": [
    "class MLPNeuralNet3LayersSigmoid(object):\n",
    "    def __init__(self,N_input, N_hidden_1, N_hidden_2, N_output, seed=None):\n",
    "        \n",
    "        if seed:\n",
    "            np.random.seed(seed)\n",
    "            \n",
    "        self.weights_input_to_hidden_1 = np.random.randn(N_input, N_hidden_1)*np.sqrt(1/N_hidden_1)\n",
    "        self.weights_hidden_1_to_hidden_2 = np.random.randn(N_hidden_1, N_hidden_2)*np.sqrt(1/N_hidden_2)\n",
    "        self.weights_hidden_2_to_output = np.random.randn(N_hidden_2, N_output)*np.sqrt(1/N_output)\n",
    "        \n",
    "        self.bias_input_to_hidden_1 = np.zeros(N_hidden_1)\n",
    "        self.bias_hidden_1_to_hidden_2 = np.zeros(N_hidden_2)\n",
    "        self.bias_hidden_2_to_output = np.zeros(N_output)\n",
    "               \n",
    "    def feed_forward(self,input_x):\n",
    "        self.hidden_layer_1_in = np.dot(input_x,self.weights_input_to_hidden_1) + self.bias_input_to_hidden_1\n",
    "        self.hidden_layer_1_out = sigmoid(self.hidden_layer_1_in)\n",
    "        self.hidden_layer_2_in = np.dot(self.hidden_layer_1_out,self.weights_hidden_1_to_hidden_2) + self.bias_hidden_1_to_hidden_2\n",
    "        self.hidden_layer_2_out = sigmoid(self.hidden_layer_2_in)\n",
    "        self.output_layer_in = np.dot(self.hidden_layer_2_out,self.weights_hidden_2_to_output) + self.bias_hidden_2_to_output\n",
    "        self.output_layer_out = sigmoid(self.output_layer_in)\n",
    "        \n",
    "        return self.output_layer_out\n",
    "\n",
    "    def get_hidden_layer_outputs(self,input_x):\n",
    "        self.hidden_layer_1_in = np.dot(input_x,self.weights_input_to_hidden_1) + self.bias_input_to_hidden_1\n",
    "        self.hidden_layer_1_out = sigmoid(self.hidden_layer_1_in)\n",
    "        self.hidden_layer_2_in = np.dot(self.hidden_layer_1_out,self.weights_hidden_1_to_hidden_2) + self.bias_hidden_1_to_hidden_2\n",
    "        \n",
    "        return (self.hidden_layer_1_in,self.hidden_layer_2_in)\n",
    "\n",
    "    def back_propagate(self,input_x,output_y, learn_rate):\n",
    "        error = (-1)*(output_y*np.log(self.output_layer_out) + (1-output_y)*np.log(1-self.output_layer_out))\n",
    "        del_y_out = (-1)*output_y/self.output_layer_out + (1-output_y)/(1-self.output_layer_out)\n",
    "        \n",
    "        del_h_2 = del_y_out*self.output_layer_out*(1-self.output_layer_out)*self.weights_hidden_2_to_output.T\n",
    "        del_w_h_2_o = del_y_out*self.output_layer_out*(1-self.output_layer_out)*self.hidden_layer_2_out.T\n",
    "        del_b_2_o = (del_y_out*self.output_layer_out*(1-self.output_layer_out))[0]\n",
    "        \n",
    "        del_h_1 = np.dot(del_h_2*self.hidden_layer_2_out*(1-self.hidden_layer_2_out),self.weights_hidden_1_to_hidden_2.T)\n",
    "        del_w_h_1_h_2 = del_h_2*self.hidden_layer_2_out*(1-self.hidden_layer_2_out)*self.hidden_layer_1_out.T\n",
    "        del_b_h_1_h_2 = (del_h_2*self.hidden_layer_2_out*(1-self.hidden_layer_2_out))[0]\n",
    "        \n",
    "        del_w_i_h_1 = del_h_1*self.hidden_layer_1_out*(1-self.hidden_layer_1_out)*input_x.T\n",
    "        del_b_i_h_1 = (del_h_1*self.hidden_layer_1_out*(1-self.hidden_layer_1_out))[0]\n",
    "        \n",
    "        self.weights_hidden_2_to_output -= learn_rate*del_w_h_2_o\n",
    "        self.bias_hidden_2_to_output -= learn_rate*del_b_2_o\n",
    "\n",
    "        self.weights_hidden_1_to_hidden_2 -= learn_rate*del_w_h_1_h_2\n",
    "        self.bias_hidden_1_to_hidden_2 -= learn_rate*del_b_h_1_h_2\n",
    "\n",
    "        self.weights_input_to_hidden_1 -= learn_rate*del_w_i_h_1\n",
    "        self.bias_input_to_hidden_1 -= learn_rate*del_b_i_h_1\n",
    "        \n",
    "        return error"
   ]
  },
  {
   "cell_type": "code",
   "execution_count": 0,
   "metadata": {
    "colab": {},
    "colab_type": "code",
    "collapsed": true,
    "id": "K5iXSjM-LGj5"
   },
   "outputs": [],
   "source": [
    "def train(nn, features, outputs, num_epochs, learn_rate, activation_type, print_error=False):\n",
    "    \n",
    "    for e in range(num_epochs):\n",
    "        for input_x, output_y in zip(features, outputs):\n",
    "            input_x = input_x.reshape(1,-1)\n",
    "            output_y = output_y.reshape(1,-1)\n",
    "            \n",
    "            if activation_type == \"sigmoid\":\n",
    "                output_layer_out = nn.feed_forward(input_x)\n",
    "\n",
    "                error = nn.back_propagate(input_x,output_y,learn_rate=learn_rate)\n",
    "            elif activation_type == \"relu\":\n",
    "                error = nn.feed_forward_and_back_propagate(input_x,output_y,learn_rate=learn_rate)\n",
    "\n",
    "        if print_error:\n",
    "            if e%200==0:\n",
    "                print(error[0][0])\n",
    "    return nn"
   ]
  },
  {
   "cell_type": "markdown",
   "metadata": {
    "colab_type": "text",
    "id": "YYeHF7QVNrJF"
   },
   "source": [
    "## Comparisons in training performance"
   ]
  },
  {
   "cell_type": "code",
   "execution_count": 0,
   "metadata": {
    "colab": {},
    "colab_type": "code",
    "collapsed": true,
    "id": "4NYZX2rgkR-g"
   },
   "outputs": [],
   "source": [
    "def compare_sigmoid_and_relu(nn_1,nn_2,X,y,epochs=300,learn_rate=1e-3,snap_every=100,dpi=100,\n",
    "                                  print_error=False,\n",
    "                                  activation_types=['sigmoid','relu'],\n",
    "                                  titles=['Sigmoid','ReLU']):\n",
    "    \n",
    "    nns = [nn_1,nn_2]\n",
    "    \n",
    "    hidden_layer_1_units = nn_1.weights_hidden_1_to_hidden_2.shape[0]\n",
    "    hidden_layer_2_units = nn_1.weights_hidden_2_to_output.shape[0]\n",
    "    \n",
    "    num_rows = 1 + hidden_layer_1_units + hidden_layer_2_units\n",
    "    num_cols = 2\n",
    "    \n",
    "    fig,axes = plt.subplots(num_rows, num_cols, figsize=(num_cols*3,num_rows*3),dpi=dpi)\n",
    "\n",
    "    axes_list = list(axes.flat)\n",
    "    \n",
    "    for ax in axes.flat:\n",
    "        ax.set_yticklabels([])\n",
    "        ax.set_xticklabels([])\n",
    "        ax.get_xaxis().set_visible(False)\n",
    "        ax.get_yaxis().set_visible(False)\n",
    "    \n",
    "    nn_1_axes = axes_list[0::2]\n",
    "    nn_2_axes = axes_list[1::2]\n",
    "    \n",
    "    nns_axes = [nn_1_axes,nn_2_axes]\n",
    "    \n",
    "    final_dec_boundary_ax = axes_list[0]\n",
    "    \n",
    "    hidden_layer_1_ax = axes_list[1:hidden_layer_1_units+1]\n",
    "    hidden_layer_2_ax = axes_list[hidden_layer_1_units+1:hidden_layer_1_units+1+hidden_layer_2_units]\n",
    "    \n",
    "    camera = Camera(fig)\n",
    "\n",
    "    h = .02\n",
    "    \n",
    "    extra_space = 0.5\n",
    "    x_min, x_max = X[:, 0].min() - extra_space, X[:, 0].max() + extra_space\n",
    "    y_min, y_max = X[:, 1].min() - extra_space, X[:, 1].max() + extra_space\n",
    "    xx, yy = np.meshgrid(np.arange(x_min, x_max, h),\n",
    "                     np.arange(y_min, y_max, h))\n",
    "\n",
    "    for e in range(ceil(epochs/snap_every)):\n",
    "        for j,nn in enumerate(nns):\n",
    "            nn = train(nn,X,y,snap_every,learn_rate,activation_types[j],print_error=print_error)\n",
    "            Z = (nn.feed_forward(np.c_[xx.ravel(), yy.ravel()]) >0.5).astype(int)\n",
    "            Z = Z.reshape(xx.shape)\n",
    "            nns_axes[j][0].contourf(xx, yy, Z, cmap=plt.cm.RdBu)\n",
    "\n",
    "            text_box = AnchoredText(f'Epoch: {snap_every*(e+1)}', frameon=True, loc=4, pad=0.5)\n",
    "            plt.setp(text_box.patch, facecolor='white', alpha=0.5)\n",
    "            nns_axes[j][0].add_artist(text_box)\n",
    "\n",
    "            Z_hidden_1, Z_hidden_2 = nn.get_hidden_layer_outputs(np.c_[xx.ravel(), yy.ravel()])\n",
    "            Z_hidden_1 = (Z_hidden_1 >0.).astype(int)\n",
    "            Z_hidden_2 = (Z_hidden_2 >0.).astype(int)\n",
    "\n",
    "            for i,ax in enumerate(nns_axes[j][1:hidden_layer_1_units+1]):\n",
    "                Z_ = Z_hidden_1[:,i].reshape(-1,1)\n",
    "                Z_ = Z_.reshape(xx.shape)\n",
    "                ax.contourf(xx, yy, Z_, cmap=plt.cm.RdBu)\n",
    "\n",
    "            for i,ax in enumerate(nns_axes[j][hidden_layer_1_units+1:hidden_layer_1_units+1+hidden_layer_2_units]):\n",
    "                Z_ = Z_hidden_2[:,i].reshape(-1,1)\n",
    "                Z_ = Z_.reshape(xx.shape)\n",
    "                ax.contourf(xx, yy, Z_, cmap=plt.cm.RdBu)\n",
    "            \n",
    "        camera.snap()\n",
    "\n",
    "    \n",
    "    for j,nn in enumerate(nns):\n",
    "        nns_axes[j][0] = plot_points_on_ax(nns_axes[j][0],X, y,alpha=.6)\n",
    "        nns_axes[j][0].set_title(f'NN with {titles[j]}\\n\\nOutput Decision Boundary')\n",
    "        \n",
    "        for i,ax in enumerate(nns_axes[j][1:hidden_layer_1_units+1]):\n",
    "            ax = plot_points_on_ax(ax,X, y,alpha=.6)\n",
    "            ax.set_title(f'Hidden layer 1 neuron {i+1}')\n",
    "\n",
    "        for i,ax in enumerate(nns_axes[j][hidden_layer_1_units+1:hidden_layer_1_units+1+hidden_layer_2_units]):\n",
    "            ax = plot_points_on_ax(ax,X, y,alpha=.6)\n",
    "            ax.set_title(f'Hidden layer 2 neuron {i+1}')\n",
    "    \n",
    "        \n",
    "    plt.annotate('https://dhruvs.space', xy=(1, 0), xycoords='axes fraction', fontsize=9,\n",
    "                xytext=(0, -15), textcoords='offset points',\n",
    "                ha='right', va='top')\n",
    "    plt.tight_layout()\n",
    "    animation = camera.animate()\n",
    "\n",
    "    return animation"
   ]
  },
  {
   "cell_type": "code",
   "execution_count": 0,
   "metadata": {
    "colab": {},
    "colab_type": "code",
    "collapsed": true,
    "id": "SH35PKkFUGd9"
   },
   "outputs": [],
   "source": [
    "seed = 30\n",
    "n_hidden_1 = 4\n",
    "n_hidden_2 = 3\n",
    "\n",
    "nn_1 = MLPNeuralNet3LayersSigmoid(2, n_hidden_1, n_hidden_2, 1, seed=seed)\n",
    "nn_2 = MLPNeuralNet3LayersReLU(2,n_hidden_1, n_hidden_2, 1, seed=seed)\n",
    "\n",
    "anim = compare_sigmoid_and_relu(nn_1,nn_2,X,y,\\\n",
    "                                     epochs=20,dpi=100,\\\n",
    "                                     learn_rate=1e-2,snap_every=1,\\\n",
    "                                     print_error=False\n",
    "                                     )\n",
    "plt.close()\n",
    "HTML(anim.to_html5_video())"
   ]
  },
  {
   "cell_type": "code",
   "execution_count": 0,
   "metadata": {
    "colab": {},
    "colab_type": "code",
    "collapsed": true,
    "id": "DMhVRKK_5NyR"
   },
   "outputs": [],
   "source": [
    "X,y = make_classification(n_samples=1000, n_features=2, n_informative=2, \n",
    "                    n_redundant=0, n_repeated=0, n_classes=2, n_clusters_per_class=2,\n",
    "                          class_sep=1.,\n",
    "                   flip_y=0,weights=[0.5,0.5], random_state=902)\n",
    "\n",
    "plot_points(X,y,alpha=.8)"
   ]
  },
  {
   "cell_type": "code",
   "execution_count": 0,
   "metadata": {
    "colab": {},
    "colab_type": "code",
    "collapsed": true,
    "id": "EIcIkFpjstFQ"
   },
   "outputs": [],
   "source": [
    "seed = 10\n",
    "n_hidden_1 = 4\n",
    "n_hidden_2 = 3\n",
    "\n",
    "nn_1 = MLPNeuralNet3LayersSigmoid(2, n_hidden_1, n_hidden_2, 1, seed=seed)\n",
    "nn_2 = MLPNeuralNet3LayersReLU(2,n_hidden_1, n_hidden_2, 1, seed=seed)\n",
    "\n",
    "anim = compare_sigmoid_and_relu(nn_1,nn_2,X,y,\\\n",
    "                                     epochs=15,dpi=100,\\\n",
    "                                     learn_rate=1e-2,snap_every=1,\\\n",
    "                                     print_error=False\n",
    "                                     )\n",
    "plt.close()"
   ]
  },
  {
   "cell_type": "code",
   "execution_count": 0,
   "metadata": {
    "colab": {},
    "colab_type": "code",
    "collapsed": true,
    "id": "N4bZ42jqkcXT"
   },
   "outputs": [],
   "source": [
    "HTML(anim.to_html5_video())"
   ]
  },
  {
   "cell_type": "code",
   "execution_count": 0,
   "metadata": {
    "colab": {},
    "colab_type": "code",
    "collapsed": true,
    "id": "d_cm_B8s7ikz"
   },
   "outputs": [],
   "source": [
    "X,y = make_moons(n_samples=500, shuffle=True, noise=.2, random_state=0)\n",
    "\n",
    "plot_points(X,y,alpha=.8)"
   ]
  },
  {
   "cell_type": "code",
   "execution_count": 0,
   "metadata": {
    "colab": {},
    "colab_type": "code",
    "collapsed": true,
    "id": "44w0BTSgaO4T"
   },
   "outputs": [],
   "source": [
    "seed = 10\n",
    "n_hidden_1 = 4\n",
    "n_hidden_2 = 3\n",
    "\n",
    "nn_1 = MLPNeuralNet3LayersSigmoid(2, n_hidden_1, n_hidden_2, 1, seed=seed)\n",
    "nn_2 = MLPNeuralNet3LayersReLU(2,n_hidden_1, n_hidden_2, 1, seed=seed)\n",
    "\n",
    "anim = compare_sigmoid_and_relu(nn_1,nn_2,X,y,\\\n",
    "                                     epochs=50,dpi=100,\\\n",
    "                                     learn_rate=1e-2,snap_every=2,\\\n",
    "                                     print_error=False\n",
    "                                     )\n",
    "plt.close()\n"
   ]
  },
  {
   "cell_type": "code",
   "execution_count": 0,
   "metadata": {
    "colab": {},
    "colab_type": "code",
    "collapsed": true,
    "id": "dVFx2Acdkd61"
   },
   "outputs": [],
   "source": [
    "HTML(anim.to_html5_video())"
   ]
  },
  {
   "cell_type": "code",
   "execution_count": 0,
   "metadata": {
    "colab": {},
    "colab_type": "code",
    "collapsed": true,
    "id": "UL3Z8jt5IPMM"
   },
   "outputs": [],
   "source": [
    "X,y = make_classification(n_samples=1000, n_features=2, n_informative=2, \n",
    "                    n_redundant=0, n_repeated=0, n_classes=2, n_clusters_per_class=2,\n",
    "                          class_sep=1.3,\n",
    "                   flip_y=0,weights=[0.5,0.5], random_state=910)\n",
    "\n",
    "\n",
    "plot_points(X,y,alpha=.8)"
   ]
  },
  {
   "cell_type": "code",
   "execution_count": 0,
   "metadata": {
    "colab": {},
    "colab_type": "code",
    "collapsed": true,
    "id": "vygYYQZgqRdQ"
   },
   "outputs": [],
   "source": [
    "seed = 10\n",
    "n_hidden_1 = 3\n",
    "n_hidden_2 = 2\n",
    "\n",
    "nn_1 = MLPNeuralNet3LayersSigmoid(2, n_hidden_1, n_hidden_2, 1, seed=seed)\n",
    "nn_2 = MLPNeuralNet3LayersReLU(2,n_hidden_1, n_hidden_2, 1, seed=seed)\n",
    "\n",
    "anim = compare_sigmoid_and_relu(nn_1,nn_2,X,y,\\\n",
    "                                     epochs=50,dpi=100,\\\n",
    "                                     learn_rate=1e-2,snap_every=2,\\\n",
    "                                     print_error=False\n",
    "                                     )\n",
    "plt.close()"
   ]
  },
  {
   "cell_type": "code",
   "execution_count": 0,
   "metadata": {
    "colab": {},
    "colab_type": "code",
    "collapsed": true,
    "id": "BWLjvzm8UZsH"
   },
   "outputs": [],
   "source": [
    "HTML(anim.to_html5_video())"
   ]
  },
  {
   "cell_type": "markdown",
   "metadata": {},
   "source": [
    "## References\n",
    "- [Deep Sparse Rectifier Neural Networks](http://proceedings.mlr.press/v15/glorot11a/glorot11a.pdf)\n",
    "- [Multilayer Perceptron](https://en.wikipedia.org/wiki/Multilayer_perceptron)"
   ]
  }
 ],
 "metadata": {
  "colab": {
   "collapsed_sections": [],
   "name": "ml-basics-issue-4-relu.ipynb",
   "provenance": [],
   "version": "0.3.2"
  },
  "kernelspec": {
   "display_name": "Python 3",
   "language": "python",
   "name": "python3"
  },
  "language_info": {
   "codemirror_mode": {
    "name": "ipython",
    "version": 3
   },
   "file_extension": ".py",
   "mimetype": "text/x-python",
   "name": "python",
   "nbconvert_exporter": "python",
   "pygments_lexer": "ipython3",
   "version": "3.6.1"
  },
  "nikola": {
   "category": "machine-learning",
   "date": "2019-09-04 16:41:21 UTC+05:30",
   "description": "Machine Learning Basics Issue #4: Moving from Sigmoid to Rectified Linear Unit (ReLU) as activation function of a Multilayer Perceptron.",
   "has_math": "true",
   "link": "",
   "slug": "ml-basics-issue-4",
   "tags": "ml-basics,zine-companion",
   "title": "ML Basics #4: Replace Negatives With Zeros!",
   "type": "text"
  },
  "toc": {
   "base_numbering": 1,
   "nav_menu": {},
   "number_sections": false,
   "sideBar": true,
   "skip_h1_title": false,
   "title_cell": "Table of Contents",
   "title_sidebar": "Contents",
   "toc_cell": false,
   "toc_position": {
    "height": "184px",
    "left": "10px",
    "top": "150px",
    "width": "179px"
   },
   "toc_section_display": true,
   "toc_window_display": true
  }
 },
 "nbformat": 4,
 "nbformat_minor": 1
}
